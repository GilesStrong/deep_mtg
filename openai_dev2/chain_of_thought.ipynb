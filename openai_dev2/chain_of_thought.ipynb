{
 "cells": [
  {
   "cell_type": "code",
   "execution_count": 1,
   "metadata": {},
   "outputs": [],
   "source": [
    "from openai import OpenAI\n",
    "from pydantic import BaseModel, Field\n",
    "\n",
    "class Step(BaseModel):\n",
    "    \"\"\"Reasoning step\"\"\"\n",
    "    reasoning: str = Field(..., description=\"Reasoning and though process\")\n",
    "    response: str = Field(..., description=\"Response to the reasoning\")\n",
    "\n",
    "class Reasoning(BaseModel):\n",
    "    \"\"\"Reasoning\"\"\"\n",
    "    steps: list[Step] = Field(..., description=\"Reasoning steps\")\n",
    "    final_response: str = Field(..., description=\"Final response after reasoning\")"
   ]
  },
  {
   "cell_type": "code",
   "execution_count": 8,
   "metadata": {},
   "outputs": [],
   "source": [
    "client = OpenAI()\n",
    "\n",
    "reasoning = client.beta.chat.completions.parse(\n",
    "    model=\"gpt-4o-mini\",\n",
    "    messages=[\n",
    "        {\"role\": \"system\", \"content\": \"Think carefully about the user question and provide a thoughtful response with reasoning steps to explain the answer.\"},\n",
    "        {\"role\": \"user\", \"content\": \"Solve for x: 2x + 5 = 15\"},\n",
    "    ],\n",
    "    response_format=Reasoning\n",
    ").choices[0].message.parsed"
   ]
  },
  {
   "cell_type": "code",
   "execution_count": 10,
   "metadata": {},
   "outputs": [
    {
     "name": "stdout",
     "output_type": "stream",
     "text": [
      "Reasoning: First, I need to isolate the variable x in the equation. I start with the given equation: 2x + 5 = 15.\n",
      "Response: 2x + 5 = 15\n",
      "\n",
      "Reasoning: Next, I will subtract 5 from both sides of the equation to eliminate the constant term on the left side.\n",
      "Response: 2x + 5 - 5 = 15 - 5\n",
      "\n",
      "Reasoning: This simplifies to 2x = 10. Now, I have a simpler equation to work with.\n",
      "Response: 2x = 10\n",
      "\n",
      "Reasoning: Additionally, to solve for x, I need to divide both sides of the equation by 2 to isolate x completely.\n",
      "Response: (2x)/2 = 10/2\n",
      "\n",
      "Reasoning: This simplifies to x = 5, which is the solution of the original equation.\n",
      "Response: x = 5\n",
      "\n"
     ]
    }
   ],
   "source": [
    "for step in reasoning.steps:\n",
    "    print(f\"Reasoning: {step.reasoning}\")\n",
    "    print(f\"Response: {step.response}\")\n",
    "    print()"
   ]
  },
  {
   "cell_type": "code",
   "execution_count": 11,
   "metadata": {},
   "outputs": [
    {
     "data": {
      "text/plain": [
       "'The solution for x is 5.'"
      ]
     },
     "execution_count": 11,
     "metadata": {},
     "output_type": "execute_result"
    }
   ],
   "source": [
    "reasoning.final_response"
   ]
  },
  {
   "cell_type": "code",
   "execution_count": 16,
   "metadata": {},
   "outputs": [],
   "source": [
    "client = OpenAI()\n",
    "\n",
    "reasoning = client.chat.completions.create(\n",
    "    model=\"gpt-4o-mini\",\n",
    "    messages=[\n",
    "        {\"role\": \"system\", \"content\": \"Think carefully about the user question and provide a thoughtful response with reasoning steps to explain the answer.\"},\n",
    "        {\"role\": \"user\", \"content\": \"Solve for x: 2x + 5 = 15\"},\n",
    "    ],\n",
    ").choices[0].message.content"
   ]
  },
  {
   "cell_type": "code",
   "execution_count": 17,
   "metadata": {},
   "outputs": [
    {
     "data": {
      "text/plain": [
       "'To solve the equation \\\\(2x + 5 = 15\\\\) for \\\\(x\\\\), we can follow these steps:\\n\\n1. **Isolate the term with \\\\(x\\\\)**: Begin by removing the constant on the left side of the equation. We can do this by subtracting 5 from both sides:\\n\\n   \\\\[\\n   2x + 5 - 5 = 15 - 5\\n   \\\\]\\n\\n   Simplifying both sides gives us:\\n\\n   \\\\[\\n   2x = 10\\n   \\\\]\\n\\n2. **Solve for \\\\(x\\\\)**: Now, we need to isolate \\\\(x\\\\) by dividing both sides by 2:\\n\\n   \\\\[\\n   \\\\frac{2x}{2} = \\\\frac{10}{2}\\n   \\\\]\\n\\n   This simplifies to:\\n\\n   \\\\[\\n   x = 5\\n   \\\\]\\n\\nThus, the solution to the equation \\\\(2x + 5 = 15\\\\) is:\\n\\n\\\\[\\n\\\\boxed{5}\\n\\\\]'"
      ]
     },
     "execution_count": 17,
     "metadata": {},
     "output_type": "execute_result"
    }
   ],
   "source": [
    "reasoning"
   ]
  },
  {
   "cell_type": "code",
   "execution_count": null,
   "metadata": {},
   "outputs": [],
   "source": []
  }
 ],
 "metadata": {
  "kernelspec": {
   "display_name": ".venv",
   "language": "python",
   "name": "python3"
  },
  "language_info": {
   "codemirror_mode": {
    "name": "ipython",
    "version": 3
   },
   "file_extension": ".py",
   "mimetype": "text/x-python",
   "name": "python",
   "nbconvert_exporter": "python",
   "pygments_lexer": "ipython3",
   "version": "3.12.3"
  }
 },
 "nbformat": 4,
 "nbformat_minor": 2
}
