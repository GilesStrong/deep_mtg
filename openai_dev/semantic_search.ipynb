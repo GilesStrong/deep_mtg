{
 "cells": [
  {
   "cell_type": "markdown",
   "metadata": {},
   "source": [
    "# Semantic search over text"
   ]
  },
  {
   "cell_type": "code",
   "execution_count": 6,
   "metadata": {},
   "outputs": [],
   "source": [
    "from langchain_community.document_loaders import PyPDFLoader\n",
    "\n",
    "loader = PyPDFLoader(\"data/nke-10k-2023.pdf\")\n",
    "docs = loader.load()"
   ]
  },
  {
   "cell_type": "code",
   "execution_count": 7,
   "metadata": {},
   "outputs": [],
   "source": [
    "from langchain_text_splitters import RecursiveCharacterTextSplitter\n",
    "\n",
    "text_splitter = RecursiveCharacterTextSplitter(\n",
    "    chunk_size=1000, chunk_overlap=200, add_start_index=True\n",
    ")\n",
    "all_splits = text_splitter.split_documents(docs)"
   ]
  },
  {
   "cell_type": "code",
   "execution_count": 10,
   "metadata": {},
   "outputs": [
    {
     "data": {
      "text/plain": [
       "'and growing our brands will depend on our design and marketing efforts, including advertising and consumer campaigns, product innovation and product quality. Our\\ncommitment to product innovation, quality and sustainability, and our continuing investment in design (including materials), marketing and sustainability measures may not\\nhave the desired impact on our brand image and reputation. In addition, our success in maintaining, extending and expanding our brand image depends on our ability to\\nadapt to a rapidly changing media and digital environment, including our reliance on social media and other digital advertising networks, and digital dissemination of\\nadvertising campaigns on our digital platforms and through our digital experiences and products. We could be adversely impacted if we fail to achieve any of these\\nobjectives.'"
      ]
     },
     "execution_count": 10,
     "metadata": {},
     "output_type": "execute_result"
    }
   ],
   "source": [
    "all_splits[100].page_content"
   ]
  },
  {
   "cell_type": "code",
   "execution_count": 72,
   "metadata": {},
   "outputs": [],
   "source": [
    "from openai import OpenAI\n",
    "import numpy as np\n",
    "\n",
    "class Embedding:\n",
    "    def __init__(self):\n",
    "        self.client = OpenAI()\n",
    "\n",
    "    def __call__(self, *args, **kwds):\n",
    "        return self.embed(*args, **kwds)\n",
    "\n",
    "    def embed(self, text:str) -> np.ndarray:\n",
    "        response = self.client.embeddings.create(\n",
    "            model=\"text-embedding-ada-002\",\n",
    "            input=text,\n",
    "            encoding_format=\"float\"\n",
    "        )\n",
    "        vector = response.data[0].embedding\n",
    "        return np.array(vector)"
   ]
  },
  {
   "cell_type": "code",
   "execution_count": 73,
   "metadata": {},
   "outputs": [],
   "source": [
    "embedding = Embedding()"
   ]
  },
  {
   "cell_type": "code",
   "execution_count": 74,
   "metadata": {},
   "outputs": [],
   "source": [
    "r = embedding(\"Hello, world!\")"
   ]
  },
  {
   "cell_type": "code",
   "execution_count": 75,
   "metadata": {},
   "outputs": [
    {
     "data": {
      "text/plain": [
       "(1536,)"
      ]
     },
     "execution_count": 75,
     "metadata": {},
     "output_type": "execute_result"
    }
   ],
   "source": [
    "r.shape"
   ]
  },
  {
   "cell_type": "code",
   "execution_count": 76,
   "metadata": {},
   "outputs": [
    {
     "data": {
      "text/plain": [
       "516"
      ]
     },
     "execution_count": 76,
     "metadata": {},
     "output_type": "execute_result"
    }
   ],
   "source": [
    "len(all_splits)"
   ]
  },
  {
   "cell_type": "code",
   "execution_count": 77,
   "metadata": {},
   "outputs": [],
   "source": [
    "embeddings = [embedding(split.page_content) for split in all_splits[:10]]"
   ]
  },
  {
   "cell_type": "code",
   "execution_count": 78,
   "metadata": {},
   "outputs": [
    {
     "data": {
      "text/plain": [
       "array([-0.00860656, -0.03344117, -0.00994162, ..., -0.00637715,\n",
       "        0.01088782, -0.01173681])"
      ]
     },
     "execution_count": 78,
     "metadata": {},
     "output_type": "execute_result"
    }
   ],
   "source": [
    "embeddings[0]"
   ]
  },
  {
   "cell_type": "code",
   "execution_count": 91,
   "metadata": {},
   "outputs": [],
   "source": [
    "matrix = np.stack(embeddings, axis=1)"
   ]
  },
  {
   "cell_type": "code",
   "execution_count": 92,
   "metadata": {},
   "outputs": [
    {
     "data": {
      "text/plain": [
       "(1536, 10)"
      ]
     },
     "execution_count": 92,
     "metadata": {},
     "output_type": "execute_result"
    }
   ],
   "source": [
    "matrix.shape"
   ]
  },
  {
   "cell_type": "code",
   "execution_count": 93,
   "metadata": {},
   "outputs": [
    {
     "data": {
      "text/plain": [
       "array([[-0.00860656, -0.01706297, -0.02913401, ..., -0.01411097,\n",
       "        -0.0001142 , -0.00353322],\n",
       "       [-0.03344117, -0.01177839, -0.01107629, ..., -0.02933733,\n",
       "        -0.01172377, -0.01499969],\n",
       "       [-0.00994162, -0.00939332, -0.00927052, ..., -0.0210627 ,\n",
       "        -0.00054143, -0.01723583],\n",
       "       ...,\n",
       "       [-0.00637715, -0.0134887 ,  0.0095189 , ..., -0.00801524,\n",
       "        -0.00730249, -0.02286386],\n",
       "       [ 0.01088782,  0.02120512,  0.01858132, ..., -0.00428647,\n",
       "        -0.00589397,  0.00584159],\n",
       "       [-0.01173681, -0.00577562, -0.03509507, ..., -0.00937057,\n",
       "        -0.01207671, -0.00096104]])"
      ]
     },
     "execution_count": 93,
     "metadata": {},
     "output_type": "execute_result"
    }
   ],
   "source": [
    "matrix"
   ]
  },
  {
   "cell_type": "code",
   "execution_count": 94,
   "metadata": {},
   "outputs": [
    {
     "data": {
      "text/plain": [
       "\"accounting standards provided pursuant to Section 13(a) of the Exchange Act.\\n¨ \\n• whether the registrant has filed a report on and attestation to its management's assessment of the effectiveness of its internal control over financial\\nreporting under Section 404(b) of the Sarbanes-Oxley Act (15 U.S.C. 7262(b)) by the registered public accounting firm that prepared or issued its audit\\nreport.\\nþ \\n• if securities are registered pursuant to Section 12(b) of the Act, whether the financial statements of the registrant included in the filing reflect the\\ncorrection of an error to previously issued financial statements.\\n¨ \\n• whether any of those error corrections are restatements that required a recovery analysis of incentive-based compensation received by any of the\\nregistrant's executive officers during the relevant recovery period pursuant to § 240.10D-1(b).\\n¨ \\n• whether the registrant is a shell company (as defined in Rule 12b-2 of the Act). ☐ þ\""
      ]
     },
     "execution_count": 94,
     "metadata": {},
     "output_type": "execute_result"
    }
   ],
   "source": [
    "all_splits[3].page_content"
   ]
  },
  {
   "cell_type": "code",
   "execution_count": 54,
   "metadata": {},
   "outputs": [],
   "source": [
    "query_vector = embedding(\"accounting standards provided pursuant to Section 13(a) of the Exchange Act\")"
   ]
  },
  {
   "cell_type": "code",
   "execution_count": 105,
   "metadata": {},
   "outputs": [],
   "source": [
    "query_vector =matrix[:, 3]"
   ]
  },
  {
   "cell_type": "code",
   "execution_count": 106,
   "metadata": {},
   "outputs": [],
   "source": [
    "cosines = (query_vector@matrix)/(np.linalg.norm(query_vector)*np.linalg.norm(matrix, axis=0))"
   ]
  },
  {
   "cell_type": "code",
   "execution_count": 107,
   "metadata": {},
   "outputs": [
    {
     "data": {
      "text/plain": [
       "array([0.78950021, 0.84323744, 0.86904014, 0.99999998, 0.83298677,\n",
       "       0.77478341, 0.78846501, 0.82199439, 0.8085074 , 0.75204297])"
      ]
     },
     "execution_count": 107,
     "metadata": {},
     "output_type": "execute_result"
    }
   ],
   "source": [
    "query_vector@matrix"
   ]
  },
  {
   "cell_type": "code",
   "execution_count": 108,
   "metadata": {},
   "outputs": [
    {
     "data": {
      "text/plain": [
       "0.999999988468154"
      ]
     },
     "execution_count": 108,
     "metadata": {},
     "output_type": "execute_result"
    }
   ],
   "source": [
    "np.linalg.norm(query_vector)"
   ]
  },
  {
   "cell_type": "code",
   "execution_count": 109,
   "metadata": {},
   "outputs": [
    {
     "data": {
      "text/plain": [
       "array([0.06193406, 0.0599555 , 0.0364599 , ..., 0.04731287, 0.03470184,\n",
       "       0.05970752])"
      ]
     },
     "execution_count": 109,
     "metadata": {},
     "output_type": "execute_result"
    }
   ],
   "source": [
    "np.linalg.norm(matrix, axis=1)"
   ]
  },
  {
   "cell_type": "code",
   "execution_count": 110,
   "metadata": {},
   "outputs": [
    {
     "data": {
      "text/plain": [
       "(9, 3)"
      ]
     },
     "execution_count": 110,
     "metadata": {},
     "output_type": "execute_result"
    }
   ],
   "source": [
    "cosines.argmin(), cosines.argmax()"
   ]
  },
  {
   "cell_type": "code",
   "execution_count": 119,
   "metadata": {},
   "outputs": [],
   "source": [
    "class VectorStore:\n",
    "    def __init__(self, vectors:list[np.ndarray], content:list[str], embedding:Embedding):\n",
    "        assert len(vectors) == len(content)\n",
    "        self.matrix = np.stack(vectors, axis=1)\n",
    "        self.matrix = self.matrix / np.linalg.norm(self.matrix, axis=0)\n",
    "        self.content = content\n",
    "        self.embedding = embedding\n",
    "    \n",
    "    def __call__(self, *args, **kwds):\n",
    "        return self.query(*args, **kwds)\n",
    "    \n",
    "    def query(self, text:str, top_k:int=1) -> np.ndarray:\n",
    "        query_vector = self.embedding(text)\n",
    "        cosines = (query_vector@self.matrix)/np.linalg.norm(query_vector)\n",
    "        idxs = cosines.argsort()[-top_k:]\n",
    "        return [self.content[idx] for idx in idxs[::-1]]"
   ]
  },
  {
   "cell_type": "code",
   "execution_count": 120,
   "metadata": {},
   "outputs": [],
   "source": [
    "store = VectorStore(embeddings, [split.page_content for split in all_splits[:10]], embedding)"
   ]
  },
  {
   "cell_type": "code",
   "execution_count": 121,
   "metadata": {},
   "outputs": [
    {
     "data": {
      "text/plain": [
       "[\"accounting standards provided pursuant to Section 13(a) of the Exchange Act.\\n¨ \\n• whether the registrant has filed a report on and attestation to its management's assessment of the effectiveness of its internal control over financial\\nreporting under Section 404(b) of the Sarbanes-Oxley Act (15 U.S.C. 7262(b)) by the registered public accounting firm that prepared or issued its audit\\nreport.\\nþ \\n• if securities are registered pursuant to Section 12(b) of the Act, whether the financial statements of the registrant included in the filing reflect the\\ncorrection of an error to previously issued financial statements.\\n¨ \\n• whether any of those error corrections are restatements that required a recovery analysis of incentive-based compensation received by any of the\\nregistrant's executive officers during the relevant recovery period pursuant to § 240.10D-1(b).\\n¨ \\n• whether the registrant is a shell company (as defined in Rule 12b-2 of the Act). ☐ þ\",\n",
       " 'SECURITIES REGISTERED PURSUANT TO SECTION 12(B) OF THE ACT:\\nClass B Common Stock NKE New York Stock Exchange\\n(Title of each class) (Trading symbol) (Name of each exchange on which registered)\\nSECURITIES REGISTERED PURSUANT TO SECTION 12(G) OF THE ACT:\\nNONE\\nIndicate by check mark: YES NO\\n• if the registrant is a well-known seasoned issuer, as defined in Rule 405 of the Securities Act. þ ¨ \\n• if the registrant is not required to file reports pursuant to Section 13 or Section 15(d) of the Act. ¨ þ \\n• whether the registrant (1) has filed all reports required to be filed by Section 13 or 15(d) of the Securities Exchange Act of 1934 during the preceding\\n12 months (or for such shorter period that the registrant was required to file such reports), and (2) has been subject to such filing requirements for the\\npast 90 days.\\nþ ¨ \\n• whether the registrant has submitted electronically every Interactive Data File required to be submitted pursuant to Rule 405 of Regulation S-T',\n",
       " 'past 90 days.\\nþ ¨ \\n• whether the registrant has submitted electronically every Interactive Data File required to be submitted pursuant to Rule 405 of Regulation S-T\\n(§232.405 of this chapter) during the preceding 12 months (or for such shorter period that the registrant was required to submit such files).\\nþ ¨ \\n• whether the registrant is a large accelerated filer, an accelerated filer, a non-accelerated filer, a smaller reporting company or an emerging growth company. See the definitions of “large accelerated filer,”\\n“accelerated filer,” “smaller reporting company,” and “emerging growth company” in Rule 12b-2 of the Exchange Act.\\nLarge accelerated filer þ Accelerated filer ☐ Non-accelerated filer ☐ Smaller reporting company ☐ Emerging growth company ☐ \\n• if an emerging growth company, if the registrant has elected not to use the extended transition period for complying with any new or revised financial\\naccounting standards provided pursuant to Section 13(a) of the Exchange Act.\\n¨']"
      ]
     },
     "execution_count": 121,
     "metadata": {},
     "output_type": "execute_result"
    }
   ],
   "source": [
    "store(\"Section 13(a) of the Exchange Act\", top_k=3)"
   ]
  }
 ],
 "metadata": {
  "kernelspec": {
   "display_name": ".venv",
   "language": "python",
   "name": "python3"
  },
  "language_info": {
   "codemirror_mode": {
    "name": "ipython",
    "version": 3
   },
   "file_extension": ".py",
   "mimetype": "text/x-python",
   "name": "python",
   "nbconvert_exporter": "python",
   "pygments_lexer": "ipython3",
   "version": "3.12.3"
  }
 },
 "nbformat": 4,
 "nbformat_minor": 2
}
