{
 "cells": [
  {
   "cell_type": "markdown",
   "metadata": {},
   "source": [
    "# Agents"
   ]
  },
  {
   "cell_type": "code",
   "execution_count": 24,
   "metadata": {},
   "outputs": [],
   "source": [
    "from pydantic import BaseModel, Field\n",
    "import json\n",
    "\n",
    "class PasswordLookupRequest(BaseModel):\n",
    "    \"\"\"Request for the password_lookup Tool\"\"\"\n",
    "    password_index: int|str = Field(..., title=\"password_index\", description=\"Index of the Password to check\")\n"
   ]
  },
  {
   "cell_type": "code",
   "execution_count": 54,
   "metadata": {},
   "outputs": [],
   "source": [
    "def password_lookup(request: PasswordLookupRequest):\n",
    "    \"\"\"Returns the password at the given index\"\"\"\n",
    "    password = [\n",
    "        'At', 'Woven', 'by', 'Toyota','we'\n",
    "    ]\n",
    "    return password[int(request.password_index)]"
   ]
  },
  {
   "cell_type": "code",
   "execution_count": 55,
   "metadata": {},
   "outputs": [
    {
     "data": {
      "text/plain": [
       "pydantic._internal._model_construction.ModelMetaclass"
      ]
     },
     "execution_count": 55,
     "metadata": {},
     "output_type": "execute_result"
    }
   ],
   "source": [
    "type(password_lookup.__annotations__[\"request\"])"
   ]
  },
  {
   "cell_type": "code",
   "execution_count": 56,
   "metadata": {},
   "outputs": [
    {
     "data": {
      "text/plain": [
       "PasswordLookupRequest(password_index=2)"
      ]
     },
     "execution_count": 56,
     "metadata": {},
     "output_type": "execute_result"
    }
   ],
   "source": [
    "from pydantic import TypeAdapter\n",
    "\n",
    "TypeAdapter(password_lookup.__annotations__[\"request\"]).validate_json('{\"password_index\": 2}')"
   ]
  },
  {
   "cell_type": "code",
   "execution_count": 57,
   "metadata": {},
   "outputs": [
    {
     "data": {
      "text/plain": [
       "'Returns the password at the given index'"
      ]
     },
     "execution_count": 57,
     "metadata": {},
     "output_type": "execute_result"
    }
   ],
   "source": [
    "password_lookup.__doc__"
   ]
  },
  {
   "cell_type": "code",
   "execution_count": 58,
   "metadata": {},
   "outputs": [
    {
     "data": {
      "text/plain": [
       "'[1, 2, 3]'"
      ]
     },
     "execution_count": 58,
     "metadata": {},
     "output_type": "execute_result"
    }
   ],
   "source": [
    "json.dumps([1,2,3])"
   ]
  },
  {
   "cell_type": "code",
   "execution_count": 59,
   "metadata": {},
   "outputs": [],
   "source": [
    "tool_prompts = \"Tools are available to help you. If you wish to use one of these, output JSON in the form:\\n['tool_0_name': tool_0_kwargs, 'tool_1_name': tool_1_kwargs, ...]\\n Where tool_i is the name of the tool and tool_i_kwargs is a dictionary of the keyword arguments for the tool. The following tools are available to you:\\n\"\n",
    "for tool in [password_lookup]:\n",
    "    tool_prompts += f\"\\n{tool.__name__}: {tool.__doc__}\"\n",
    "\n",
    "    schema = password_lookup.__annotations__[\"request\"].model_json_schema()\n",
    "    tool_prompts += f\"\\nThe tool kwargs will be used for {schema['description']}, and expect the following fields:\"\n",
    "    tool_prompts += '\\n\\n{'\n",
    "    for field in schema['properties'].keys():\n",
    "        tool_prompts += f\"\\n  {field}: {schema['properties'][field]['type']}  # {schema['properties'][field]['description']}\"\n",
    "    tool_prompts += '\\n}\\n\\n'\n",
    "\n",
    "tool_prompts += \"If you request to use one or more tools, then the output will be fed back to you \""
   ]
  },
  {
   "cell_type": "code",
   "execution_count": 60,
   "metadata": {},
   "outputs": [],
   "source": [
    "tools = [{\n",
    "    \"type\": \"function\",\n",
    "    \"function\": {\n",
    "        \"name\": \"get_weather\",\n",
    "        \"description\": \"Get current temperature for a given location.\",\n",
    "        \"parameters\": {\n",
    "            \"type\": \"object\",\n",
    "            \"properties\": {\n",
    "                \"location\": {\n",
    "                    \"type\": \"string\",\n",
    "                    \"description\": \"City and country e.g. Bogotá, Colombia\"\n",
    "                }\n",
    "            },\n",
    "            \"required\": [\n",
    "                \"location\"\n",
    "            ],\n",
    "            \"additionalProperties\": False\n",
    "        },\n",
    "        \"strict\": True\n",
    "    }\n",
    "}]"
   ]
  },
  {
   "cell_type": "code",
   "execution_count": 61,
   "metadata": {},
   "outputs": [
    {
     "data": {
      "text/plain": [
       "{'description': 'Request format for the password_lookup Tool',\n",
       " 'properties': {'password_index': {'description': 'Index of the Password to check',\n",
       "   'title': 'password_index',\n",
       "   'type': 'integer'}},\n",
       " 'required': ['password_index'],\n",
       " 'title': 'PasswordLookupRequest',\n",
       " 'type': 'object'}"
      ]
     },
     "execution_count": 61,
     "metadata": {},
     "output_type": "execute_result"
    }
   ],
   "source": [
    "schema"
   ]
  },
  {
   "cell_type": "code",
   "execution_count": 62,
   "metadata": {},
   "outputs": [],
   "source": [
    "tools = []\n",
    "for tool in [password_lookup]:\n",
    "    schema = tool.__annotations__[\"request\"].model_json_schema()\n",
    "    tools.append({\n",
    "        \"type\": \"function\",\n",
    "        \"function\": {\n",
    "            \"name\": tool.__name__,\n",
    "            \"description\": tool.__doc__,\n",
    "            \"parameters\": {\"additionalProperties\": False, **schema},\n",
    "            \"strict\": True\n",
    "        }\n",
    "    })"
   ]
  },
  {
   "cell_type": "code",
   "execution_count": 63,
   "metadata": {},
   "outputs": [
    {
     "name": "stdout",
     "output_type": "stream",
     "text": [
      "[{'type': 'function', 'function': {'name': 'password_lookup', 'description': 'Returns the password at the given index', 'parameters': {'additionalProperties': False, 'description': 'Request format for the password_lookup Tool', 'properties': {'password_index': {'description': 'Index of the Password to check', 'title': 'password_index', 'type': 'integer'}}, 'required': ['password_index'], 'title': 'PasswordLookupRequest', 'type': 'object'}, 'strict': True}}]\n"
     ]
    }
   ],
   "source": [
    "print(tools)"
   ]
  },
  {
   "cell_type": "code",
   "execution_count": 123,
   "metadata": {},
   "outputs": [],
   "source": [
    "from openai import OpenAI\n",
    "from typing import Callable\n",
    "\n",
    "class LLMWithTools:\n",
    "    def __init__(self, tools: list[Callable]):\n",
    "        self.client = OpenAI()\n",
    "        self.tools = []\n",
    "        self.tool_names = {tool.__name__: tool for tool in tools}\n",
    "        for tool in tools:\n",
    "            schema = tool.__annotations__[\"request\"].model_json_schema()\n",
    "            self.tools.append({\n",
    "                \"type\": \"function\",\n",
    "                \"function\": {\n",
    "                    \"name\": tool.__name__,\n",
    "                    \"description\": tool.__doc__,\n",
    "                    \"parameters\": {\"additionalProperties\": False, **schema},\n",
    "                    \"strict\": False\n",
    "                }\n",
    "            })\n",
    "    \n",
    "    def __call__(self, text: str) -> str:\n",
    "        messages = [\n",
    "            {\"role\": \"user\", \"content\": text}\n",
    "        ]\n",
    "\n",
    "        def call():\n",
    "            return self.client.chat.completions.create(\n",
    "                model=\"gpt-4o-mini\",\n",
    "                messages=messages,\n",
    "                tools=self.tools\n",
    "            )\n",
    "        \n",
    "        response = call()\n",
    "        while response.choices[0].message.tool_calls is not None and len(response.choices[0].message.tool_calls) > 0:\n",
    "            messages.append(response.choices[0].message)\n",
    "            for tool_call in response.choices[0].message.tool_calls:\n",
    "                if tool_call.function.name in self.tool_names:\n",
    "                    f = self.tool_names[tool_call.function.name]\n",
    "                    t = f.__annotations__[\"request\"]\n",
    "                    print(f\"Calling {f.__name__} with {t}\")\n",
    "                    tool_response = self.tool_names[tool_call.function.name](TypeAdapter(t).validate_json(tool_call.function.arguments))\n",
    "                    messages.append({\"role\": \"tool\", \"content\": tool_response, \"tool_call_id\": tool_call.id,})\n",
    "            response = call()\n",
    "\n",
    "        return response.choices[0].message.content"
   ]
  },
  {
   "cell_type": "code",
   "execution_count": 124,
   "metadata": {},
   "outputs": [],
   "source": [
    "llm = LLMWithTools([password_lookup])"
   ]
  },
  {
   "cell_type": "code",
   "execution_count": 105,
   "metadata": {},
   "outputs": [
    {
     "data": {
      "text/plain": [
       "'The `password_lookup` tool allows you to retrieve a password using its index. To use it, you need to provide a single parameter: `password_index`, which is an integer representing the index of the password you want to look up.\\n\\nHere\\'s an example format of how you would request a password lookup:\\n\\n```json\\n{\\n  \"password_index\": 0\\n}\\n```\\n\\nIn this example, you would replace `0` with the index of the password you desire. If you let me know which index you want to look up, I can assist you in making the request!'"
      ]
     },
     "execution_count": 105,
     "metadata": {},
     "output_type": "execute_result"
    }
   ],
   "source": [
    "llm(\"Hello, I would like to use the password_lookup tool. How do I use it?\")"
   ]
  },
  {
   "cell_type": "code",
   "execution_count": 126,
   "metadata": {},
   "outputs": [
    {
     "name": "stdout",
     "output_type": "stream",
     "text": [
      "Calling password_lookup with <class '__main__.PasswordLookupRequest'>\n"
     ]
    },
    {
     "data": {
      "text/plain": [
       "'The password at index 2 is \"by\".'"
      ]
     },
     "execution_count": 126,
     "metadata": {},
     "output_type": "execute_result"
    }
   ],
   "source": [
    "llm(\"What is the password at index 2?\")"
   ]
  }
 ],
 "metadata": {
  "kernelspec": {
   "display_name": ".venv",
   "language": "python",
   "name": "python3"
  },
  "language_info": {
   "codemirror_mode": {
    "name": "ipython",
    "version": 3
   },
   "file_extension": ".py",
   "mimetype": "text/x-python",
   "name": "python",
   "nbconvert_exporter": "python",
   "pygments_lexer": "ipython3",
   "version": "3.12.3"
  }
 },
 "nbformat": 4,
 "nbformat_minor": 2
}
