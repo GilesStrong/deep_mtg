{
 "cells": [
  {
   "cell_type": "code",
   "execution_count": 1,
   "metadata": {},
   "outputs": [],
   "source": [
    "from pydantic import BaseModel\n",
    "from openai import OpenAI\n",
    "\n",
    "client = OpenAI()\n",
    "\n",
    "class Step(BaseModel):\n",
    "    explanation: str\n",
    "    output: str\n",
    "\n",
    "class MathReasoning(BaseModel):\n",
    "    steps: list[Step]\n",
    "    final_answer: str\n",
    "\n",
    "completion = client.beta.chat.completions.parse(\n",
    "    model=\"gpt-4o-2024-08-06\",\n",
    "    messages=[\n",
    "        {\"role\": \"system\", \"content\": \"You are a helpful math tutor. Guide the user through the solution step by step.\"},\n",
    "        {\"role\": \"user\", \"content\": \"how can I solve 8x + 7 = -23\"}\n",
    "    ],\n",
    "    response_format=MathReasoning,\n",
    ")\n",
    "\n",
    "math_reasoning = completion.choices[0].message.parsed"
   ]
  },
  {
   "cell_type": "code",
   "execution_count": 4,
   "metadata": {},
   "outputs": [
    {
     "name": "stdout",
     "output_type": "stream",
     "text": [
      "We are given the equation 8x + 7 = -23. To isolate the term with the variable x, we should first move the constant term (7) to the other side of the equation. This can be done by subtracting 7 from both sides of the equation.\n",
      "8x + 7 - 7 = -23 - 7\n",
      "The left side simplifies to 8x because 7 - 7 is 0. The right side simplifies to -30 because -23 - 7 is -30.\n",
      "8x = -30\n",
      "Now, to solve for x, we need to divide both sides of the equation by 8 to isolate x.\n",
      "x = -30 / 8\n",
      "You can simplify -30/8 by dividing both the numerator and the denominator by their greatest common divisor, which is 2.\n",
      "x = -15/4\n",
      "Therefore, the solution to the equation 8x + 7 = -23 is x = -15/4. You can leave your answer as an improper fraction or convert it into a decimal for approximation, -3.75.\n",
      "x = -15/4\n"
     ]
    }
   ],
   "source": [
    "for step in math_reasoning.steps:\n",
    "    print(step.explanation)\n",
    "    print(step.output)"
   ]
  },
  {
   "cell_type": "code",
   "execution_count": null,
   "metadata": {},
   "outputs": [],
   "source": []
  }
 ],
 "metadata": {
  "kernelspec": {
   "display_name": ".venv",
   "language": "python",
   "name": "python3"
  },
  "language_info": {
   "codemirror_mode": {
    "name": "ipython",
    "version": 3
   },
   "file_extension": ".py",
   "mimetype": "text/x-python",
   "name": "python",
   "nbconvert_exporter": "python",
   "pygments_lexer": "ipython3",
   "version": "3.12.3"
  }
 },
 "nbformat": 4,
 "nbformat_minor": 2
}
