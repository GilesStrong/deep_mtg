{
 "cells": [
  {
   "cell_type": "markdown",
   "metadata": {},
   "source": [
    "# RAG for cards"
   ]
  },
  {
   "cell_type": "code",
   "execution_count": 1,
   "metadata": {},
   "outputs": [],
   "source": [
    "from langchain_ollama import ChatOllama\n",
    "\n",
    "llm = ChatOllama(model=\"llama3.1\")"
   ]
  },
  {
   "cell_type": "code",
   "execution_count": 2,
   "metadata": {},
   "outputs": [],
   "source": [
    "import json"
   ]
  },
  {
   "cell_type": "code",
   "execution_count": 3,
   "metadata": {},
   "outputs": [],
   "source": [
    "with open(\"../data/cards/FDN.json\") as f:\n",
    "    data = json.load(f)"
   ]
  },
  {
   "cell_type": "code",
   "execution_count": 4,
   "metadata": {},
   "outputs": [
    {
     "data": {
      "text/plain": [
       "<function dict.keys>"
      ]
     },
     "execution_count": 4,
     "metadata": {},
     "output_type": "execute_result"
    }
   ],
   "source": [
    "data['data']['cards'][0].keys"
   ]
  },
  {
   "cell_type": "code",
   "execution_count": 48,
   "metadata": {},
   "outputs": [],
   "source": [
    "from langchain_community.document_loaders import JSONLoader\n",
    "\n",
    "extraction_data = ['colorIdentity', 'colors', 'convertedManaCost', 'edhrecRank', \n",
    " 'keywords', 'legalities', 'manaCost', 'manaValue', 'name',\n",
    " 'power', 'rarity', \n",
    " 'setCode', 'subtypes', 'supertypes', 'text', \n",
    " 'toughness', 'type', 'types']\n",
    "\n",
    "extraction_schema = \"\"\"\n",
    ".data.cards[] | {\n",
    "            colors: .colors,\n",
    "            convertedManaCost: .convertedManaCost,\n",
    "            keywords: .keywords,\n",
    "            manaCost: .manaCost,\n",
    "            name: .name,\n",
    "            power: .power,\n",
    "            rarity: .rarity,\n",
    "            subtypes: .subtypes,\n",
    "            supertypes: .supertypes,\n",
    "            text: .text,\n",
    "            toughness: .toughness,\n",
    "            types: .types\n",
    "        }\n",
    "\"\"\"\n",
    "\n",
    "loader = JSONLoader(\n",
    "    file_path=\"../data/cards/FDN.json\",\n",
    "    jq_schema=extraction_schema,\n",
    "    text_content=False,\n",
    ")"
   ]
  },
  {
   "cell_type": "code",
   "execution_count": 49,
   "metadata": {},
   "outputs": [],
   "source": [
    "docs = loader.load()"
   ]
  },
  {
   "cell_type": "code",
   "execution_count": 50,
   "metadata": {},
   "outputs": [
    {
     "name": "stdout",
     "output_type": "stream",
     "text": [
      "page_content='{\"colors\": [], \"convertedManaCost\": 7, \"keywords\": [\"First strike\", \"Lifelink\", \"Menace\", \"Reach\", \"Trample\", \"Vigilance\", \"Ward\"], \"manaCost\": \"{7}\", \"name\": \"Sire of Seven Deaths\", \"power\": \"7\", \"rarity\": \"mythic\", \"subtypes\": [\"Eldrazi\"], \"supertypes\": [], \"text\": \"First strike, vigilance\\nMenace, trample\\nReach, lifelink\\nWard\\u2014Pay 7 life.\", \"toughness\": \"7\", \"types\": [\"Creature\"]}' metadata={'source': '/home/giles/code/deep_mtg/data/cards/FDN.json', 'seq_num': 1}\n",
      "730\n"
     ]
    },
    {
     "data": {
      "text/plain": [
       "(None, None)"
      ]
     },
     "execution_count": 50,
     "metadata": {},
     "output_type": "execute_result"
    }
   ],
   "source": [
    "print(docs[0]), print(len(docs))"
   ]
  },
  {
   "cell_type": "code",
   "execution_count": 51,
   "metadata": {},
   "outputs": [],
   "source": [
    "from langchain_core.vectorstores import InMemoryVectorStore\n",
    "from langchain_ollama import OllamaEmbeddings\n",
    "\n",
    "embeddings = OllamaEmbeddings(model=\"snowflake-arctic-embed2\")\n",
    "vector_store = InMemoryVectorStore(embeddings)"
   ]
  },
  {
   "cell_type": "code",
   "execution_count": 52,
   "metadata": {},
   "outputs": [
    {
     "name": "stdout",
     "output_type": "stream",
     "text": [
      "Generated vectors of length 1024\n",
      "\n",
      "[-0.022801735, 0.041194554, 0.017705947, 0.01626768, -0.011525806, -0.0617139, 0.037792053, -0.017419714, -0.022631949, -0.007076665]\n"
     ]
    }
   ],
   "source": [
    "vector_1 = embeddings.embed_query(docs[0].page_content)\n",
    "vector_2 = embeddings.embed_query(docs[1].page_content)\n",
    "\n",
    "assert len(vector_1) == len(vector_2)\n",
    "print(f\"Generated vectors of length {len(vector_1)}\\n\")\n",
    "print(vector_1[:10])"
   ]
  },
  {
   "cell_type": "code",
   "execution_count": 53,
   "metadata": {},
   "outputs": [
    {
     "data": {
      "text/plain": [
       "392"
      ]
     },
     "execution_count": 53,
     "metadata": {},
     "output_type": "execute_result"
    }
   ],
   "source": [
    "len(docs[0].page_content)"
   ]
  },
  {
   "cell_type": "code",
   "execution_count": 56,
   "metadata": {},
   "outputs": [
    {
     "data": {
      "text/plain": [
       "'Sire of Seven Deaths is a strong, flying creature with formidable power and toughness. Its unique ability to ward itself for 7 life points can be a game-changer in the right situations, giving it a significant survival advantage. However, its large converted mana cost makes it difficult to play early on, and its inability to generate card draw or protection for itself may leave it vulnerable to removal spells.'"
      ]
     },
     "execution_count": 56,
     "metadata": {},
     "output_type": "execute_result"
    }
   ],
   "source": [
    "from langchain_core.prompts import ChatPromptTemplate\n",
    "\n",
    "prompt = ChatPromptTemplate.from_messages(\n",
    "    [(\"system\",\n",
    "      \"You are an expert Magic: The Gathering player.\"\n",
    "      \"You are helping a new player to understand what various cards do from a high-level perspective.\"\n",
    "      \"When provided with a card, you should write a concise summary of the card.\"\n",
    "      \"You can assume that the player understands the basic rules of the game\"\n",
    "      \"Include basic keyword terms like 'flying' or 'trample', but do not explain what they mean.\"\n",
    "      \"Do not include details of rarity or set information.\"\n",
    "      \"Rather than quantifying attributes of the card, instead use qualitative terms like 'strong' or 'weak' to describe the card.\"\n",
    "      \"Include the name of the card in the summary.\"\n",
    "      \"Include details of the card's role in that, strengths, and weaknesses.\"\n",
    "      \"Do not return anything other than the summary of the card.\"),\n",
    "    (\"user\", \"{card}\")]\n",
    ")\n",
    "\n",
    "summary = llm.invoke(prompt.invoke({'card': docs[0].page_content})).content\n",
    "summary"
   ]
  },
  {
   "cell_type": "code",
   "execution_count": 55,
   "metadata": {},
   "outputs": [
    {
     "data": {
      "text/plain": [
       "413"
      ]
     },
     "execution_count": 55,
     "metadata": {},
     "output_type": "execute_result"
    }
   ],
   "source": [
    "len(summary)"
   ]
  },
  {
   "cell_type": "code",
   "execution_count": 25,
   "metadata": {},
   "outputs": [],
   "source": [
    "ids = vector_store.add_documents(documents=docs)"
   ]
  },
  {
   "cell_type": "code",
   "execution_count": 30,
   "metadata": {},
   "outputs": [
    {
     "data": {
      "text/plain": [
       "[Document(id='3fd34a5a-9832-4fc6-8f6a-d7384a64bd51', metadata={'source': '/home/giles/code/deep_mtg/data/cards/FDN.json', 'seq_num': 1}, page_content='{\"colorIdentity\": [], \"colors\": [], \"convertedManaCost\": 7, \"edhrecRank\": 8500, \"keywords\": [\"First strike\", \"Lifelink\", \"Menace\", \"Reach\", \"Trample\", \"Vigilance\", \"Ward\"], \"legalities\": {\"alchemy\": \"Legal\", \"brawl\": \"Legal\", \"commander\": \"Legal\", \"duel\": \"Legal\", \"explorer\": \"Legal\", \"future\": \"Legal\", \"gladiator\": \"Legal\", \"historic\": \"Legal\", \"legacy\": \"Legal\", \"modern\": \"Legal\", \"oathbreaker\": \"Legal\", \"pioneer\": \"Legal\", \"standard\": \"Legal\", \"standardbrawl\": \"Legal\", \"timeless\": \"Legal\", \"vintage\": \"Legal\"}, \"manaCost\": \"{7}\", \"manaValue\": 7, \"name\": \"Sire of Seven Deaths\", \"power\": \"7\", \"rarity\": \"mythic\", \"setCode\": \"FDN\", \"subtypes\": [\"Eldrazi\"], \"supertypes\": [], \"text\": \"First strike, vigilance\\\\nMenace, trample\\\\nReach, lifelink\\\\nWard\\\\u2014Pay 7 life.\", \"toughness\": \"7\", \"type\": \"Creature \\\\u2014 Eldrazi\", \"types\": [\"Creature\"]}')]"
      ]
     },
     "execution_count": 30,
     "metadata": {},
     "output_type": "execute_result"
    }
   ],
   "source": [
    "vector_store.get_by_ids(['3fd34a5a-9832-4fc6-8f6a-d7384a64bd51'])"
   ]
  },
  {
   "cell_type": "code",
   "execution_count": 18,
   "metadata": {},
   "outputs": [
    {
     "name": "stdout",
     "output_type": "stream",
     "text": [
      "{\"colorIdentity\": [\"U\"], \"colors\": [\"U\"], \"convertedManaCost\": 10, \"edhrecRank\": 1123, \"keywords\": null, \"legalities\": {\"alchemy\": \"Legal\", \"brawl\": \"Legal\", \"commander\": \"Legal\", \"duel\": \"Legal\", \"explorer\": \"Legal\", \"future\": \"Legal\", \"gladiator\": \"Legal\", \"historic\": \"Legal\", \"legacy\": \"Legal\", \"modern\": \"Legal\", \"oathbreaker\": \"Legal\", \"pioneer\": \"Legal\", \"standard\": \"Legal\", \"standardbrawl\": \"Legal\", \"timeless\": \"Legal\", \"vintage\": \"Legal\"}, \"manaCost\": \"{7}{U}{U}{U}\", \"manaValue\": 10, \"name\": \"Omniscience\", \"power\": null, \"rarity\": \"mythic\", \"setCode\": \"FDN\", \"subtypes\": [], \"supertypes\": [], \"text\": \"You may cast spells from your hand without paying their mana costs.\", \"toughness\": null, \"type\": \"Enchantment\", \"types\": [\"Enchantment\"]}\n"
     ]
    }
   ],
   "source": [
    "results = vector_store.similarity_search(\n",
    "    \"Manacost of omniscience\"\n",
    ")\n",
    "\n",
    "print(results[0].page_content)"
   ]
  },
  {
   "cell_type": "code",
   "execution_count": 19,
   "metadata": {},
   "outputs": [
    {
     "data": {
      "text/plain": [
       "[Document(id='7a195142-963b-465f-8284-43a6da22dc4d', metadata={'source': '/home/giles/code/deep_mtg/data/cards/FDN.json', 'seq_num': 161}, page_content='{\"colorIdentity\": [\"U\"], \"colors\": [\"U\"], \"convertedManaCost\": 10, \"edhrecRank\": 1123, \"keywords\": null, \"legalities\": {\"alchemy\": \"Legal\", \"brawl\": \"Legal\", \"commander\": \"Legal\", \"duel\": \"Legal\", \"explorer\": \"Legal\", \"future\": \"Legal\", \"gladiator\": \"Legal\", \"historic\": \"Legal\", \"legacy\": \"Legal\", \"modern\": \"Legal\", \"oathbreaker\": \"Legal\", \"pioneer\": \"Legal\", \"standard\": \"Legal\", \"standardbrawl\": \"Legal\", \"timeless\": \"Legal\", \"vintage\": \"Legal\"}, \"manaCost\": \"{7}{U}{U}{U}\", \"manaValue\": 10, \"name\": \"Omniscience\", \"power\": null, \"rarity\": \"mythic\", \"setCode\": \"FDN\", \"subtypes\": [], \"supertypes\": [], \"text\": \"You may cast spells from your hand without paying their mana costs.\", \"toughness\": null, \"type\": \"Enchantment\", \"types\": [\"Enchantment\"]}'),\n",
       " Document(id='b24d68f1-3457-4584-9d6c-6b42c5d9a030', metadata={'source': '/home/giles/code/deep_mtg/data/cards/FDN.json', 'seq_num': 379}, page_content='{\"colorIdentity\": [\"U\"], \"colors\": [\"U\"], \"convertedManaCost\": 10, \"edhrecRank\": 1123, \"keywords\": null, \"legalities\": {\"alchemy\": \"Legal\", \"brawl\": \"Legal\", \"commander\": \"Legal\", \"duel\": \"Legal\", \"explorer\": \"Legal\", \"future\": \"Legal\", \"gladiator\": \"Legal\", \"historic\": \"Legal\", \"legacy\": \"Legal\", \"modern\": \"Legal\", \"oathbreaker\": \"Legal\", \"pioneer\": \"Legal\", \"standard\": \"Legal\", \"standardbrawl\": \"Legal\", \"timeless\": \"Legal\", \"vintage\": \"Legal\"}, \"manaCost\": \"{7}{U}{U}{U}\", \"manaValue\": 10, \"name\": \"Omniscience\", \"power\": null, \"rarity\": \"mythic\", \"setCode\": \"FDN\", \"subtypes\": [], \"supertypes\": [], \"text\": \"You may cast spells from your hand without paying their mana costs.\", \"toughness\": null, \"type\": \"Enchantment\", \"types\": [\"Enchantment\"]}'),\n",
       " Document(id='4dba96c7-ce1b-42ea-a78e-883c6bdebf74', metadata={'source': '/home/giles/code/deep_mtg/data/cards/FDN.json', 'seq_num': 312}, page_content='{\"colorIdentity\": [\"U\"], \"colors\": [\"U\"], \"convertedManaCost\": 10, \"edhrecRank\": 1123, \"keywords\": null, \"legalities\": {\"alchemy\": \"Legal\", \"brawl\": \"Legal\", \"commander\": \"Legal\", \"duel\": \"Legal\", \"explorer\": \"Legal\", \"future\": \"Legal\", \"gladiator\": \"Legal\", \"historic\": \"Legal\", \"legacy\": \"Legal\", \"modern\": \"Legal\", \"oathbreaker\": \"Legal\", \"pioneer\": \"Legal\", \"standard\": \"Legal\", \"standardbrawl\": \"Legal\", \"timeless\": \"Legal\", \"vintage\": \"Legal\"}, \"manaCost\": \"{7}{U}{U}{U}\", \"manaValue\": 10, \"name\": \"Omniscience\", \"power\": null, \"rarity\": \"mythic\", \"setCode\": \"FDN\", \"subtypes\": [], \"supertypes\": [], \"text\": \"You may cast spells from your hand without paying their mana costs.\", \"toughness\": null, \"type\": \"Enchantment\", \"types\": [\"Enchantment\"]}'),\n",
       " Document(id='e2827b43-10e9-4488-b5a8-95efb90e4718', metadata={'source': '/home/giles/code/deep_mtg/data/cards/FDN.json', 'seq_num': 585}, page_content='{\"colorIdentity\": [\"U\"], \"colors\": [\"U\"], \"convertedManaCost\": 6, \"edhrecRank\": 2560, \"keywords\": null, \"legalities\": {\"alchemy\": \"Legal\", \"brawl\": \"Legal\", \"commander\": \"Legal\", \"duel\": \"Legal\", \"explorer\": \"Legal\", \"future\": \"Legal\", \"gladiator\": \"Legal\", \"historic\": \"Legal\", \"legacy\": \"Legal\", \"modern\": \"Legal\", \"oathbreaker\": \"Legal\", \"penny\": \"Legal\", \"pioneer\": \"Legal\", \"predh\": \"Legal\", \"premodern\": \"Legal\", \"standard\": \"Legal\", \"standardbrawl\": \"Legal\", \"timeless\": \"Legal\", \"vintage\": \"Legal\"}, \"manaCost\": \"{3}{U}{U}{U}\", \"manaValue\": 6, \"name\": \"Arcanis the Omnipotent\", \"power\": \"3\", \"rarity\": \"rare\", \"setCode\": \"FDN\", \"subtypes\": [\"Wizard\"], \"supertypes\": [\"Legendary\"], \"text\": \"{T}: Draw three cards.\\\\n{2}{U}{U}: Return Arcanis to its owner\\'s hand.\", \"toughness\": \"4\", \"type\": \"Legendary Creature \\\\u2014 Wizard\", \"types\": [\"Creature\"]}')]"
      ]
     },
     "execution_count": 19,
     "metadata": {},
     "output_type": "execute_result"
    }
   ],
   "source": [
    "results"
   ]
  },
  {
   "cell_type": "code",
   "execution_count": 33,
   "metadata": {},
   "outputs": [],
   "source": [
    "from pathlib import Path\n",
    "\n",
    "from langchain_community.document_loaders import PyPDFLoader\n",
    "from langchain_core.tools import tool\n",
    "from langchain_core.vectorstores import InMemoryVectorStore\n",
    "from langchain_ollama import OllamaEmbeddings\n",
    "from langchain_text_splitters import RecursiveCharacterTextSplitter\n",
    "from langchain_core.tools import BaseTool\n",
    "from typing import Optional, Type\n",
    "\n",
    "from langchain_core.callbacks import (\n",
    "    AsyncCallbackManagerForToolRun,\n",
    "    CallbackManagerForToolRun,\n",
    ")\n",
    "from langchain_core.tools import BaseTool\n",
    "from pydantic import BaseModel, Field\n",
    "\n",
    "\n"
   ]
  },
  {
   "cell_type": "code",
   "execution_count": 34,
   "metadata": {},
   "outputs": [],
   "source": [
    "class ScalableQuery(BaseModel):\n",
    "    query: str = Field(description=\"Retrieval query\")\n",
    "    k: int = Field(description=\"Number of results to return\")\n",
    "    score_threshold: float = Field(default=0.0, description=\"Minimum similarity score to return. Float between zero and one.\")"
   ]
  },
  {
   "cell_type": "code",
   "execution_count": 84,
   "metadata": {},
   "outputs": [],
   "source": [
    "from tqdm import tqdm\n",
    "\n",
    "class CardsRetriever(BaseTool):\n",
    "    sets_path: Path\n",
    "    llm: ChatOllama\n",
    "    embeddings: OllamaEmbeddings\n",
    "    summary_prompt: ChatPromptTemplate\n",
    "    card_vector_store: None | InMemoryVectorStore = None\n",
    "    extraction_schema: str = \"\"\"\n",
    "        .data.cards[] | {\n",
    "            colors: .colors,\n",
    "            convertedManaCost: .convertedManaCost,\n",
    "            keywords: .keywords,\n",
    "            manaCost: .manaCost,\n",
    "            name: .name,\n",
    "            power: .power,\n",
    "            rarity: .rarity,\n",
    "            subtypes: .subtypes,\n",
    "            supertypes: .supertypes,\n",
    "            text: .text,\n",
    "            toughness: .toughness,\n",
    "            types: .types\n",
    "        }\n",
    "    \"\"\"\n",
    "    recreate_storage: bool = False\n",
    "\n",
    "    name: str = \"SetsRetriever\"\n",
    "    description: str = \"Provides relevant information for cards in Magic.\"\n",
    "    args_schema: Type[BaseModel] = ScalableQuery\n",
    "\n",
    "    def __init__(self, sets_path: Path, llm:ChatOllama, embeddings: OllamaEmbeddings, recreate_storage: bool = False):\n",
    "        summary_prompt = ChatPromptTemplate.from_messages((\n",
    "            [(\"system\",\n",
    "            \"You are an expert Magic: The Gathering player.\"\n",
    "            \"You are helping a new player to understand what various cards do from a high-level perspective.\"\n",
    "            \"When provided with a card, you should write a concise summary of the card.\"\n",
    "            \"You can assume that the player understands the basic rules of the game\"\n",
    "            \"Include basic keyword terms like 'flying' or 'trample', but do not explain what they mean.\"\n",
    "            \"Do not include details of rarity or set information.\"\n",
    "            \"Rather than quantifying attributes of the card, instead use qualitative terms like 'strong' or 'weak' to describe the card.\"\n",
    "            \"Include the name of the card in the summary.\"\n",
    "            \"Include details of the card's role in that, strengths, and weaknesses.\"\n",
    "            \"Include the mana colors of the card, along with the a qualitative description of the mana cost.\"\n",
    "            \"Do not return anything other than the summary of the card.\"),\n",
    "            (\"user\", \"{card}\")]\n",
    "        ))\n",
    "        super().__init__(sets_path=sets_path, llm=llm, embeddings=embeddings, summary_prompt=summary_prompt, recreate_storage=recreate_storage)\n",
    "        self.create_storage()\n",
    "\n",
    "    def create_storage(self) -> None:\n",
    "        if self.recreate_storage or not (self.sets_path/\"cards.vec\").exists():\n",
    "            self.card_vector_store = InMemoryVectorStore(self.embeddings)\n",
    "            for s in self.sets_path.glob(\"*.json\"):\n",
    "                print(f\"Loading {s}...\")\n",
    "                loader = JSONLoader(s, self.extraction_schema, text_content=False)\n",
    "                cards = loader.load()\n",
    "\n",
    "                # Remove duplicates and basic lands\n",
    "                filtered_cards = []\n",
    "                filtered_hashes = []\n",
    "                for card in cards:\n",
    "                    # card_dict = json.loads(card.page_content)\n",
    "                    # if card_dict[\"name\"] in [\"Plains\", \"Island\", \"Swamp\", \"Mountain\", \"Forest\"]:\n",
    "                    #     continue\n",
    "                    if (h := hash(card.page_content)) not in filtered_hashes:\n",
    "                        filtered_cards.append(card)\n",
    "                        filtered_hashes.append(h)\n",
    "\n",
    "                # Create card summaries\n",
    "                print(f\"Creating summaries for {len(filtered_cards)} cards...\")\n",
    "                for card in tqdm(filtered_cards):\n",
    "                    summary = self.llm.invoke(self.summary_prompt.invoke({'card': card.page_content})).content\n",
    "\n",
    "                    card.page_content = '{\"summary\": \"' + summary + '\", ' + card.page_content[1:]\n",
    "\n",
    "                self.card_vector_store.add_documents(documents=filtered_cards)\n",
    "                print(f\"Loaded {len(filtered_cards)} cards from set {s}.\")\n",
    "            \n",
    "            print(f\"Dumping vectors to disk {self.sets_path/\"cards.vec\"}...\")\n",
    "            self.card_vector_store.dump(self.sets_path/\"cards.vec\")\n",
    "        \n",
    "        else:\n",
    "            print(f\"Loading vectors from disk {self.sets_path/'cards.vec'}...\")\n",
    "            self.card_vector_store = InMemoryVectorStore(self.embeddings).load(self.sets_path/\"cards.vec\", self.embeddings)\n",
    "\n",
    "    def _run(\n",
    "        self, query: str, k: int, score_threshold: float = 0.0, run_manager: Optional[CallbackManagerForToolRun] = None\n",
    "    ) -> list[str]:\n",
    "        \"\"\"Retrieve information related to a query.\"\"\"\n",
    "        retrieved_cards = self.card_vector_store.similarity_search_with_score(query, k=k)\n",
    "        if k <= 2:\n",
    "            score_threshold = 0.0\n",
    "        filtered_cards = [card[0].page_content for card in retrieved_cards if card[1] > score_threshold]\n",
    "        return filtered_cards"
   ]
  },
  {
   "cell_type": "code",
   "execution_count": 85,
   "metadata": {},
   "outputs": [
    {
     "name": "stdout",
     "output_type": "stream",
     "text": [
      "Loading vectors from disk ../data/cards/cards.vec...\n"
     ]
    }
   ],
   "source": [
    "retriever = CardsRetriever(sets_path=Path(\"../data/cards\"), llm=llm, embeddings=embeddings)"
   ]
  },
  {
   "cell_type": "code",
   "execution_count": 86,
   "metadata": {},
   "outputs": [
    {
     "data": {
      "text/plain": [
       "['{\"summary\": \"Sire of Seven Deaths is a strong Eldrazi creature with a high mana cost that\\'s considered expensive. It has flying and vigilance, making it a formidable attacker. Its presence on the battlefield allows you to pay 7 life in case you need to save yourself from its wrath, but this also means it can be vulnerable if your opponent finds a way to deal with its threat. Overall, this card is a high-risk, high-reward threat that can swing games in favor of its controller, especially if they have a strong removal spell or a way to protect their life total.\", \"colors\": [], \"convertedManaCost\": 7, \"keywords\": [\"First strike\", \"Lifelink\", \"Menace\", \"Reach\", \"Trample\", \"Vigilance\", \"Ward\"], \"manaCost\": \"{7}\", \"name\": \"Sire of Seven Deaths\", \"power\": \"7\", \"rarity\": \"mythic\", \"subtypes\": [\"Eldrazi\"], \"supertypes\": [], \"text\": \"First strike, vigilance\\\\nMenace, trample\\\\nReach, lifelink\\\\nWard\\\\u2014Pay 7 life.\", \"toughness\": \"7\", \"types\": [\"Creature\"]}',\n",
       " '{\"summary\": \"Nine-Lives Familiar is a rare black creature that excels at reanimating itself from death. It enters the board with strong potential for repeated returns, making it difficult to kill permanently. Its moderate power and toughness make it a weak attacker, but its ability to revive makes up for this.\", \"colors\": [\"B\"], \"convertedManaCost\": 3, \"keywords\": null, \"manaCost\": \"{1}{B}{B}\", \"name\": \"Nine-Lives Familiar\", \"power\": \"1\", \"rarity\": \"rare\", \"subtypes\": [\"Cat\"], \"supertypes\": [], \"text\": \"This creature enters with eight revival counters on it if you cast it.\\\\nWhen this creature dies, if it had a revival counter on it, return it to the battlefield with one fewer revival counter on it at the beginning of the next end step.\", \"toughness\": \"1\", \"types\": [\"Creature\"]}',\n",
       " '{\"summary\": \"High-Society Hunter is a strong flying Vampire creature with moderate toughness and power. Its mana cost of three black mana and two additional one-mana increments makes it relatively expensive to cast, but not prohibitively so. This card excels at drawing cards and gaining an advantage through the sacrifice of other creatures, making it a valuable addition to any aggressive or midrange deck, particularly those centered around black mana. Its ability to draw cards from the graveyard makes it resilient in longer games.\", \"colors\": [\"B\"], \"convertedManaCost\": 5, \"keywords\": [\"Flying\"], \"manaCost\": \"{3}{B}{B}\", \"name\": \"High-Society Hunter\", \"power\": \"5\", \"rarity\": \"rare\", \"subtypes\": [\"Vampire\", \"Noble\"], \"supertypes\": [], \"text\": \"Flying\\\\nWhenever this creature attacks, you may sacrifice another creature. If you do, put a +1/+1 counter on this creature.\\\\nWhenever another nontoken creature dies, draw a card.\", \"toughness\": \"3\", \"types\": [\"Creature\"]}',\n",
       " '{\"summary\": \"\"Driver of the Dead is a weak black vampire creature. It has an average cost, being neither cheap nor expensive. When it dies, which happens often due to its moderate power and toughness, it can revive a weaker creature from the graveyard. This makes it a good removal target for opponents, but also provides some value when it does die.\"\", \"colors\": [\"B\"], \"convertedManaCost\": 4, \"keywords\": null, \"manaCost\": \"{3}{B}\", \"name\": \"Driver of the Dead\", \"power\": \"3\", \"rarity\": \"common\", \"subtypes\": [\"Vampire\"], \"supertypes\": [], \"text\": \"When this creature dies, return target creature card with mana value 2 or less from your graveyard to the battlefield.\", \"toughness\": \"2\", \"types\": [\"Creature\"]}',\n",
       " '{\"summary\": \"Kalastria Highborn is a strong, flying black creature with moderate toughness. Its mana cost of two blue-less blacks is somewhat steep for its power and toughness. This Vampire Shaman has a secondary role as an anthem card, using the death trigger to drain life from opponents and gain life for itself.\", \"colors\": [\"B\"], \"convertedManaCost\": 2, \"keywords\": null, \"manaCost\": \"{B}{B}\", \"name\": \"Kalastria Highborn\", \"power\": \"2\", \"rarity\": \"rare\", \"subtypes\": [\"Vampire\", \"Shaman\"], \"supertypes\": [], \"text\": \"Whenever this creature or another Vampire you control dies, you may pay {B}. If you do, target player loses 2 life and you gain 2 life.\", \"toughness\": \"2\", \"types\": [\"Creature\"]}']"
      ]
     },
     "execution_count": 86,
     "metadata": {},
     "output_type": "execute_result"
    }
   ],
   "source": [
    "retriever.invoke({'query':\"Sire of seven deaths\", 'k':5, 'score_threshold':0.})"
   ]
  },
  {
   "cell_type": "code",
   "execution_count": 174,
   "metadata": {},
   "outputs": [],
   "source": [
    "from langgraph.checkpoint.memory import MemorySaver\n",
    "from langgraph.prebuilt import create_react_agent\n",
    "\n",
    "memory = MemorySaver()\n",
    "agent_executor = create_react_agent(llm, [retriever], checkpointer=memory)\n",
    "config = {\"configurable\": {\"thread_id\": \"test_cards_retriever\"}}"
   ]
  },
  {
   "cell_type": "code",
   "execution_count": 175,
   "metadata": {},
   "outputs": [
    {
     "name": "stdout",
     "output_type": "stream",
     "text": [
      "================================\u001b[1m Human Message \u001b[0m=================================\n",
      "\n",
      "What is the mana cost of Omniscience?\n"
     ]
    },
    {
     "name": "stdout",
     "output_type": "stream",
     "text": [
      "==================================\u001b[1m Ai Message \u001b[0m==================================\n",
      "Tool Calls:\n",
      "  SetsRetriever (2118514c-4422-4287-b96c-fbb85e38b68f)\n",
      " Call ID: 2118514c-4422-4287-b96c-fbb85e38b68f\n",
      "  Args:\n",
      "    k: 1\n",
      "    query: Omniscience\n",
      "    score_threshold: 0\n",
      "=================================\u001b[1m Tool Message \u001b[0m=================================\n",
      "Name: SetsRetriever\n",
      "\n",
      "[\"{\\\"colors\\\": [\\\"U\\\"], \\\"convertedManaCost\\\": 10, \\\"keywords\\\": null, \\\"manaCost\\\": \\\"{7}{U}{U}{U}\\\", \\\"manaValue\\\": 10, \\\"name\\\": \\\"Omniscience\\\", \\\"power\\\": null, \\\"rarity\\\": \\\"mythic\\\", \\\"subtypes\\\": [], \\\"supertypes\\\": [], \\\"text\\\": \\\"You may cast spells from your hand without paying their mana costs.\\\", \\\"toughness\\\": null, \\\"types\\\": [\\\"Enchantment\\\"]}\"]\n",
      "==================================\u001b[1m Ai Message \u001b[0m==================================\n",
      "\n",
      "The mana cost of Omniscience is {7}{U}{U}{U}.\n"
     ]
    }
   ],
   "source": [
    "input_message = (\n",
    "    \"What is the mana cost of Omniscience?\"\n",
    ")\n",
    "\n",
    "for event in agent_executor.stream(\n",
    "    {\"messages\": [{\"role\": \"user\", \"content\": input_message}]},\n",
    "    stream_mode=\"values\",\n",
    "    config=config,\n",
    "):\n",
    "    event[\"messages\"][-1].pretty_print()"
   ]
  },
  {
   "cell_type": "code",
   "execution_count": 176,
   "metadata": {},
   "outputs": [
    {
     "name": "stdout",
     "output_type": "stream",
     "text": [
      "================================\u001b[1m Human Message \u001b[0m=================================\n",
      "\n",
      "How many demons are there? You can retrieve as many cards as you want\n",
      "==================================\u001b[1m Ai Message \u001b[0m==================================\n",
      "Tool Calls:\n",
      "  SetsRetriever (e8e49fc2-f0cd-43ee-9318-57b3d8cbb0d5)\n",
      " Call ID: e8e49fc2-f0cd-43ee-9318-57b3d8cbb0d5\n",
      "  Args:\n",
      "    k: 100\n",
      "    query: demons\n",
      "    score_threshold: 0\n",
      "=================================\u001b[1m Tool Message \u001b[0m=================================\n",
      "Name: SetsRetriever\n",
      "\n",
      "[\"{\\\"colors\\\": [\\\"B\\\"], \\\"convertedManaCost\\\": 3, \\\"keywords\\\": null, \\\"manaCost\\\": \\\"{2}{B}\\\", \\\"manaValue\\\": 3, \\\"name\\\": \\\"Infernal Vessel\\\", \\\"power\\\": \\\"2\\\", \\\"rarity\\\": \\\"uncommon\\\", \\\"subtypes\\\": [\\\"Human\\\", \\\"Cleric\\\"], \\\"supertypes\\\": [], \\\"text\\\": \\\"When this creature dies, if it wasn't a Demon, return it to the battlefield under its owner's control with two +1/+1 counters on it. It's a Demon in addition to its other types.\\\", \\\"toughness\\\": \\\"1\\\", \\\"types\\\": [\\\"Creature\\\"]}\", \"{\\\"colors\\\": [\\\"B\\\"], \\\"convertedManaCost\\\": 4, \\\"keywords\\\": [\\\"Flying\\\"], \\\"manaCost\\\": \\\"{2}{B}{B}\\\", \\\"manaValue\\\": 4, \\\"name\\\": \\\"Desecration Demon\\\", \\\"power\\\": \\\"6\\\", \\\"rarity\\\": \\\"rare\\\", \\\"subtypes\\\": [\\\"Demon\\\"], \\\"supertypes\\\": [], \\\"text\\\": \\\"Flying\\\\nAt the beginning of each combat, any opponent may sacrifice a creature of their choice. If a player does, tap this creature and put a +1/+1 counter on it.\\\", \\\"toughness\\\": \\\"6\\\", \\\"types\\\": [\\\"Creature\\\"]}\", \"{\\\"colors\\\": [\\\"B\\\"], \\\"convertedManaCost\\\": 7, \\\"keywords\\\": [\\\"Flying\\\"], \\\"manaCost\\\": \\\"{5}{B}{B}\\\", \\\"manaValue\\\": 7, \\\"name\\\": \\\"Rune-Scarred Demon\\\", \\\"power\\\": \\\"6\\\", \\\"rarity\\\": \\\"rare\\\", \\\"subtypes\\\": [\\\"Demon\\\"], \\\"supertypes\\\": [], \\\"text\\\": \\\"Flying\\\\nWhen this creature enters, search your library for a card, put it into your hand, then shuffle.\\\", \\\"toughness\\\": \\\"6\\\", \\\"types\\\": [\\\"Creature\\\"]}\", \"{\\\"colors\\\": [\\\"R\\\"], \\\"convertedManaCost\\\": 4, \\\"keywords\\\": null, \\\"manaCost\\\": \\\"{3}{R}\\\", \\\"manaValue\\\": 4, \\\"name\\\": \\\"Sower of Chaos\\\", \\\"power\\\": \\\"4\\\", \\\"rarity\\\": \\\"common\\\", \\\"subtypes\\\": [\\\"Devil\\\"], \\\"supertypes\\\": [], \\\"text\\\": \\\"{2}{R}: Target creature can't block this turn.\\\", \\\"toughness\\\": \\\"3\\\", \\\"types\\\": [\\\"Creature\\\"]}\", \"{\\\"colors\\\": [\\\"B\\\"], \\\"convertedManaCost\\\": 3, \\\"keywords\\\": null, \\\"manaCost\\\": \\\"{1}{B}{B}\\\", \\\"manaValue\\\": 3, \\\"name\\\": \\\"Death Baron\\\", \\\"power\\\": \\\"2\\\", \\\"rarity\\\": \\\"rare\\\", \\\"subtypes\\\": [\\\"Zombie\\\", \\\"Wizard\\\"], \\\"supertypes\\\": [], \\\"text\\\": \\\"Skeletons you control and other Zombies you control get +1/+1 and have deathtouch. (Any amount of damage they deal to a creature is enough to destroy it.)\\\", \\\"toughness\\\": \\\"2\\\", \\\"types\\\": [\\\"Creature\\\"]}\", \"{\\\"colors\\\": [\\\"W\\\"], \\\"convertedManaCost\\\": 4, \\\"keywords\\\": null, \\\"manaCost\\\": \\\"{2}{W}{W}\\\", \\\"manaValue\\\": 4, \\\"name\\\": \\\"Day of Judgment\\\", \\\"power\\\": null, \\\"rarity\\\": \\\"rare\\\", \\\"subtypes\\\": [], \\\"supertypes\\\": [], \\\"text\\\": \\\"Destroy all creatures.\\\", \\\"toughness\\\": null, \\\"types\\\": [\\\"Sorcery\\\"]}\", \"{\\\"colors\\\": [\\\"W\\\"], \\\"convertedManaCost\\\": 4, \\\"keywords\\\": null, \\\"manaCost\\\": \\\"{2}{W}{W}\\\", \\\"manaValue\\\": 4, \\\"name\\\": \\\"Day of Judgment\\\", \\\"power\\\": null, \\\"rarity\\\": \\\"mythic\\\", \\\"subtypes\\\": [], \\\"supertypes\\\": [], \\\"text\\\": \\\"Destroy all creatures.\\\", \\\"toughness\\\": null, \\\"types\\\": [\\\"Sorcery\\\"]}\", \"{\\\"colors\\\": [\\\"W\\\"], \\\"convertedManaCost\\\": 4, \\\"keywords\\\": [\\\"Flying\\\"], \\\"manaCost\\\": \\\"{3}{W}\\\", \\\"manaValue\\\": 4, \\\"name\\\": \\\"Angel of Finality\\\", \\\"power\\\": \\\"3\\\", \\\"rarity\\\": \\\"uncommon\\\", \\\"subtypes\\\": [\\\"Angel\\\"], \\\"supertypes\\\": [], \\\"text\\\": \\\"Flying\\\\nWhen this creature enters, exile target player's graveyard.\\\", \\\"toughness\\\": \\\"4\\\", \\\"types\\\": [\\\"Creature\\\"]}\", \"{\\\"colors\\\": [\\\"W\\\"], \\\"convertedManaCost\\\": 4, \\\"keywords\\\": [\\\"Enchant\\\"], \\\"manaCost\\\": \\\"{2}{W}{W}\\\", \\\"manaValue\\\": 4, \\\"name\\\": \\\"Angelic Destiny\\\", \\\"power\\\": null, \\\"rarity\\\": \\\"mythic\\\", \\\"subtypes\\\": [\\\"Aura\\\"], \\\"supertypes\\\": [], \\\"text\\\": \\\"Enchant creature\\\\nEnchanted creature gets +4/+4, has flying and first strike, and is an Angel in addition to its other types.\\\\nWhen enchanted creature dies, return Angelic Destiny to its owner's hand.\\\", \\\"toughness\\\": null, \\\"types\\\": [\\\"Enchantment\\\"]}\", \"{\\\"colors\\\": [\\\"B\\\"], \\\"convertedManaCost\\\": 5, \\\"keywords\\\": [\\\"Flying\\\"], \\\"manaCost\\\": \\\"{4}{B}\\\", \\\"manaValue\\\": 5, \\\"name\\\": \\\"Vampire Soulcaller\\\", \\\"power\\\": \\\"3\\\", \\\"rarity\\\": \\\"common\\\", \\\"subtypes\\\": [\\\"Vampire\\\", \\\"Warlock\\\"], \\\"supertypes\\\": [], \\\"text\\\": \\\"Flying\\\\nThis creature can't block.\\\\nWhen this creature enters, return target creature card from your graveyard to your hand.\\\", \\\"toughness\\\": \\\"2\\\", \\\"types\\\": [\\\"Creature\\\"]}\", \"{\\\"colors\\\": [\\\"B\\\"], \\\"convertedManaCost\\\": 4, \\\"keywords\\\": null, \\\"manaCost\\\": \\\"{2}{B}{B}\\\", \\\"manaValue\\\": 4, \\\"name\\\": \\\"Demonic Pact\\\", \\\"power\\\": null, \\\"rarity\\\": \\\"mythic\\\", \\\"subtypes\\\": [], \\\"supertypes\\\": [], \\\"text\\\": \\\"At the beginning of your upkeep, choose one that hasn't been chosen \\\\u2014\\\\n\\\\u2022 This enchantment deals 4 damage to any target and you gain 4 life.\\\\n\\\\u2022 Target opponent discards two cards.\\\\n\\\\u2022 Draw two cards.\\\\n\\\\u2022 You lose the game.\\\", \\\"toughness\\\": null, \\\"types\\\": [\\\"Enchantment\\\"]}\", \"{\\\"colors\\\": [\\\"B\\\"], \\\"convertedManaCost\\\": 9, \\\"keywords\\\": null, \\\"manaCost\\\": \\\"{7}{B}{B}\\\", \\\"manaValue\\\": 9, \\\"name\\\": \\\"Rise of the Dark Realms\\\", \\\"power\\\": null, \\\"rarity\\\": \\\"mythic\\\", \\\"subtypes\\\": [], \\\"supertypes\\\": [], \\\"text\\\": \\\"Put all creature cards from all graveyards onto the battlefield under your control.\\\", \\\"toughness\\\": null, \\\"types\\\": [\\\"Sorcery\\\"]}\", \"{\\\"colors\\\": [\\\"R\\\"], \\\"convertedManaCost\\\": 7, \\\"keywords\\\": [\\\"Flying\\\"], \\\"manaCost\\\": \\\"{4}{R}{R}{R}\\\", \\\"manaValue\\\": 7, \\\"name\\\": \\\"Drakuseth, Maw of Flames\\\", \\\"power\\\": \\\"7\\\", \\\"rarity\\\": \\\"rare\\\", \\\"subtypes\\\": [\\\"Dragon\\\"], \\\"supertypes\\\": [\\\"Legendary\\\"], \\\"text\\\": \\\"Flying\\\\nWhenever Drakuseth attacks, it deals 4 damage to any target and 3 damage to each of up to two other targets.\\\", \\\"toughness\\\": \\\"7\\\", \\\"types\\\": [\\\"Creature\\\"]}\", \"{\\\"colors\\\": [\\\"R\\\"], \\\"convertedManaCost\\\": 7, \\\"keywords\\\": [\\\"Double strike\\\", \\\"Flying\\\"], \\\"manaCost\\\": \\\"{5}{R}{R}\\\", \\\"manaValue\\\": 7, \\\"name\\\": \\\"Terror of Mount Velus\\\", \\\"power\\\": \\\"5\\\", \\\"rarity\\\": \\\"rare\\\", \\\"subtypes\\\": [\\\"Dragon\\\"], \\\"supertypes\\\": [], \\\"text\\\": \\\"Flying\\\\nDouble strike (This creature deals both first-strike and regular combat damage.)\\\\nWhen this creature enters, creatures you control gain double strike until end of turn.\\\", \\\"toughness\\\": \\\"5\\\", \\\"types\\\": [\\\"Creature\\\"]}\", \"{\\\"colors\\\": [\\\"B\\\"], \\\"convertedManaCost\\\": 2, \\\"keywords\\\": [\\\"Flying\\\"], \\\"manaCost\\\": \\\"{1}{B}\\\", \\\"manaValue\\\": 2, \\\"name\\\": \\\"Vampire Interloper\\\", \\\"power\\\": \\\"2\\\", \\\"rarity\\\": \\\"common\\\", \\\"subtypes\\\": [\\\"Vampire\\\", \\\"Scout\\\"], \\\"supertypes\\\": [], \\\"text\\\": \\\"Flying\\\\nThis creature can't block.\\\", \\\"toughness\\\": \\\"1\\\", \\\"types\\\": [\\\"Creature\\\"]}\", \"{\\\"colors\\\": [\\\"G\\\", \\\"U\\\"], \\\"convertedManaCost\\\": 3, \\\"keywords\\\": [\\\"Flying\\\"], \\\"manaCost\\\": \\\"{1}{G}{U}\\\", \\\"manaValue\\\": 3, \\\"name\\\": \\\"Trygon Predator\\\", \\\"power\\\": \\\"2\\\", \\\"rarity\\\": \\\"uncommon\\\", \\\"subtypes\\\": [\\\"Beast\\\"], \\\"supertypes\\\": [], \\\"text\\\": \\\"Flying\\\\nWhenever this creature deals combat damage to a player, you may destroy target artifact or enchantment that player controls.\\\", \\\"toughness\\\": \\\"3\\\", \\\"types\\\": [\\\"Creature\\\"]}\", \"{\\\"colors\\\": [\\\"W\\\"], \\\"convertedManaCost\\\": 1, \\\"keywords\\\": null, \\\"manaCost\\\": \\\"{W}\\\", \\\"manaValue\\\": 1, \\\"name\\\": \\\"Savannah Lions\\\", \\\"power\\\": \\\"2\\\", \\\"rarity\\\": \\\"uncommon\\\", \\\"subtypes\\\": [\\\"Cat\\\"], \\\"supertypes\\\": [], \\\"text\\\": null, \\\"toughness\\\": \\\"1\\\", \\\"types\\\": [\\\"Creature\\\"]}\", \"{\\\"colors\\\": [\\\"R\\\"], \\\"convertedManaCost\\\": 5, \\\"keywords\\\": null, \\\"manaCost\\\": \\\"{3}{R}{R}\\\", \\\"manaValue\\\": 5, \\\"name\\\": \\\"Fire Elemental\\\", \\\"power\\\": \\\"5\\\", \\\"rarity\\\": \\\"common\\\", \\\"subtypes\\\": [\\\"Elemental\\\"], \\\"supertypes\\\": [], \\\"text\\\": null, \\\"toughness\\\": \\\"4\\\", \\\"types\\\": [\\\"Creature\\\"]}\", \"{\\\"colors\\\": [], \\\"convertedManaCost\\\": 11, \\\"keywords\\\": [\\\"Indestructible\\\", \\\"Trample\\\"], \\\"manaCost\\\": \\\"{11}\\\", \\\"manaValue\\\": 11, \\\"name\\\": \\\"Darksteel Colossus\\\", \\\"power\\\": \\\"11\\\", \\\"rarity\\\": \\\"mythic\\\", \\\"subtypes\\\": [\\\"Golem\\\"], \\\"supertypes\\\": [], \\\"text\\\": \\\"Trample (This creature can deal excess combat damage to the player or planeswalker it's attacking.)\\\\nIndestructible (Damage and effects that say \\\\\\\"destroy\\\\\\\" don't destroy this creature.)\\\\nIf Darksteel Colossus would be put into a graveyard from anywhere, reveal Darksteel Colossus and shuffle it into its owner's library instead.\\\", \\\"toughness\\\": \\\"11\\\", \\\"types\\\": [\\\"Artifact\\\", \\\"Creature\\\"]}\", \"{\\\"colors\\\": [\\\"B\\\"], \\\"convertedManaCost\\\": 3, \\\"keywords\\\": null, \\\"manaCost\\\": \\\"{1}{B}{B}\\\", \\\"manaValue\\\": 3, \\\"name\\\": \\\"Abyssal Harvester\\\", \\\"power\\\": \\\"3\\\", \\\"rarity\\\": \\\"rare\\\", \\\"subtypes\\\": [\\\"Demon\\\", \\\"Warlock\\\"], \\\"supertypes\\\": [], \\\"text\\\": \\\"{T}: Exile target creature card from a graveyard that was put there this turn. Create a token that's a copy of it, except it's a Nightmare in addition to its other types. Then exile all other Nightmare tokens you control.\\\", \\\"toughness\\\": \\\"2\\\", \\\"types\\\": [\\\"Creature\\\"]}\", \"{\\\"colors\\\": [\\\"B\\\"], \\\"convertedManaCost\\\": 4, \\\"keywords\\\": null, \\\"manaCost\\\": \\\"{3}{B}\\\", \\\"manaValue\\\": 4, \\\"name\\\": \\\"Highborn Vampire\\\", \\\"power\\\": \\\"4\\\", \\\"rarity\\\": \\\"common\\\", \\\"subtypes\\\": [\\\"Vampire\\\", \\\"Warrior\\\"], \\\"supertypes\\\": [], \\\"text\\\": null, \\\"toughness\\\": \\\"3\\\", \\\"types\\\": [\\\"Creature\\\"]}\", \"{\\\"colors\\\": [\\\"B\\\"], \\\"convertedManaCost\\\": 1, \\\"keywords\\\": null, \\\"manaCost\\\": \\\"{B}\\\", \\\"manaValue\\\": 1, \\\"name\\\": \\\"Deathmark\\\", \\\"power\\\": null, \\\"rarity\\\": \\\"uncommon\\\", \\\"subtypes\\\": [], \\\"supertypes\\\": [], \\\"text\\\": \\\"Destroy target green or white creature.\\\", \\\"toughness\\\": null, \\\"types\\\": [\\\"Sorcery\\\"]}\", \"{\\\"colors\\\": [\\\"R\\\", \\\"U\\\"], \\\"convertedManaCost\\\": 3, \\\"keywords\\\": [\\\"Flying\\\"], \\\"manaCost\\\": \\\"{1}{U}{R}\\\", \\\"manaValue\\\": 3, \\\"name\\\": \\\"Enigma Drake\\\", \\\"power\\\": \\\"*\\\", \\\"rarity\\\": \\\"uncommon\\\", \\\"subtypes\\\": [\\\"Drake\\\"], \\\"supertypes\\\": [], \\\"text\\\": \\\"Flying\\\\nEnigma Drake's power is equal to the number of instant and sorcery cards in your graveyard.\\\", \\\"toughness\\\": \\\"4\\\", \\\"types\\\": [\\\"Creature\\\"]}\", \"{\\\"colors\\\": [\\\"R\\\"], \\\"convertedManaCost\\\": 2, \\\"keywords\\\": null, \\\"manaCost\\\": \\\"{1}{R}\\\", \\\"manaValue\\\": 2, \\\"name\\\": \\\"Kargan Dragonrider\\\", \\\"power\\\": \\\"2\\\", \\\"rarity\\\": \\\"common\\\", \\\"subtypes\\\": [\\\"Human\\\", \\\"Warrior\\\"], \\\"supertypes\\\": [], \\\"text\\\": \\\"As long as you control a Dragon, this creature has flying.\\\", \\\"toughness\\\": \\\"2\\\", \\\"types\\\": [\\\"Creature\\\"]}\", \"{\\\"colors\\\": [\\\"B\\\"], \\\"convertedManaCost\\\": 3, \\\"keywords\\\": [\\\"Deathtouch\\\", \\\"Flying\\\", \\\"Lifelink\\\"], \\\"manaCost\\\": \\\"{1}{B}{B}\\\", \\\"manaValue\\\": 3, \\\"name\\\": \\\"Vampire Nighthawk\\\", \\\"power\\\": \\\"2\\\", \\\"rarity\\\": \\\"uncommon\\\", \\\"subtypes\\\": [\\\"Vampire\\\", \\\"Shaman\\\"], \\\"supertypes\\\": [], \\\"text\\\": \\\"Flying\\\\nDeathtouch (Any amount of damage this deals to a creature is enough to destroy it.)\\\\nLifelink (Damage dealt by this creature also causes you to gain that much life.)\\\", \\\"toughness\\\": \\\"3\\\", \\\"types\\\": [\\\"Creature\\\"]}\", \"{\\\"colors\\\": [], \\\"convertedManaCost\\\": 2, \\\"keywords\\\": null, \\\"manaCost\\\": \\\"{2}\\\", \\\"manaValue\\\": 2, \\\"name\\\": \\\"Ravenous Amulet\\\", \\\"power\\\": null, \\\"rarity\\\": \\\"uncommon\\\", \\\"subtypes\\\": [], \\\"supertypes\\\": [], \\\"text\\\": \\\"{1}, {T}, Sacrifice a creature: Draw a card and put a soul counter on this artifact. Activate only as a sorcery.\\\\n{4}, {T}, Sacrifice this artifact: Each opponent loses life equal to the number of soul counters on this artifact.\\\", \\\"toughness\\\": null, \\\"types\\\": [\\\"Artifact\\\"]}\", \"{\\\"colors\\\": [\\\"W\\\"], \\\"convertedManaCost\\\": 5, \\\"keywords\\\": null, \\\"manaCost\\\": \\\"{4}{W}\\\", \\\"manaValue\\\": 5, \\\"name\\\": \\\"Angelic Edict\\\", \\\"power\\\": null, \\\"rarity\\\": \\\"common\\\", \\\"subtypes\\\": [], \\\"supertypes\\\": [], \\\"text\\\": \\\"Exile target creature or enchantment.\\\", \\\"toughness\\\": null, \\\"types\\\": [\\\"Sorcery\\\"]}\", \"{\\\"colors\\\": [\\\"B\\\"], \\\"convertedManaCost\\\": 3, \\\"keywords\\\": null, \\\"manaCost\\\": \\\"{2}{B}\\\", \\\"manaValue\\\": 3, \\\"name\\\": \\\"Vampire Spawn\\\", \\\"power\\\": \\\"2\\\", \\\"rarity\\\": \\\"common\\\", \\\"subtypes\\\": [\\\"Vampire\\\"], \\\"supertypes\\\": [], \\\"text\\\": \\\"When this creature enters, each opponent loses 2 life and you gain 2 life.\\\", \\\"toughness\\\": \\\"3\\\", \\\"types\\\": [\\\"Creature\\\"]}\", \"{\\\"colors\\\": [\\\"W\\\"], \\\"convertedManaCost\\\": 4, \\\"keywords\\\": null, \\\"manaCost\\\": \\\"{3}{W}\\\", \\\"manaValue\\\": 4, \\\"name\\\": \\\"Release the Dogs\\\", \\\"power\\\": null, \\\"rarity\\\": \\\"uncommon\\\", \\\"subtypes\\\": [], \\\"supertypes\\\": [], \\\"text\\\": \\\"Create four 1/1 white Dog creature tokens.\\\", \\\"toughness\\\": null, \\\"types\\\": [\\\"Sorcery\\\"]}\", \"{\\\"colors\\\": [\\\"B\\\"], \\\"convertedManaCost\\\": 2, \\\"keywords\\\": [\\\"Mill\\\"], \\\"manaCost\\\": \\\"{X}{B}{B}\\\", \\\"manaValue\\\": 2, \\\"name\\\": \\\"Dread Summons\\\", \\\"power\\\": null, \\\"rarity\\\": \\\"rare\\\", \\\"subtypes\\\": [], \\\"supertypes\\\": [], \\\"text\\\": \\\"Each player mills X cards. For each creature card put into a graveyard this way, you create a tapped 2/2 black Zombie creature token. (To mill a card, a player puts the top card of their library into their graveyard.)\\\", \\\"toughness\\\": null, \\\"types\\\": [\\\"Sorcery\\\"]}\", \"{\\\"colors\\\": [\\\"B\\\"], \\\"convertedManaCost\\\": 4, \\\"keywords\\\": null, \\\"manaCost\\\": \\\"{3}{B}\\\", \\\"manaValue\\\": 4, \\\"name\\\": \\\"Driver of the Dead\\\", \\\"power\\\": \\\"3\\\", \\\"rarity\\\": \\\"common\\\", \\\"subtypes\\\": [\\\"Vampire\\\"], \\\"supertypes\\\": [], \\\"text\\\": \\\"When this creature dies, return target creature card with mana value 2 or less from your graveyard to the battlefield.\\\", \\\"toughness\\\": \\\"2\\\", \\\"types\\\": [\\\"Creature\\\"]}\", \"{\\\"colors\\\": [\\\"R\\\"], \\\"convertedManaCost\\\": 7, \\\"keywords\\\": [\\\"Flying\\\"], \\\"manaCost\\\": \\\"{5}{R}{R}\\\", \\\"manaValue\\\": 7, \\\"name\\\": \\\"Dragon Mage\\\", \\\"power\\\": \\\"5\\\", \\\"rarity\\\": \\\"uncommon\\\", \\\"subtypes\\\": [\\\"Dragon\\\", \\\"Wizard\\\"], \\\"supertypes\\\": [], \\\"text\\\": \\\"Flying\\\\nWhenever this creature deals combat damage to a player, each player discards their hand, then draws seven cards.\\\", \\\"toughness\\\": \\\"5\\\", \\\"types\\\": [\\\"Creature\\\"]}\", \"{\\\"colors\\\": [\\\"R\\\"], \\\"convertedManaCost\\\": 1, \\\"keywords\\\": null, \\\"manaCost\\\": \\\"{R}\\\", \\\"manaValue\\\": 1, \\\"name\\\": \\\"Stromkirk Noble\\\", \\\"power\\\": \\\"1\\\", \\\"rarity\\\": \\\"rare\\\", \\\"subtypes\\\": [\\\"Vampire\\\", \\\"Noble\\\"], \\\"supertypes\\\": [], \\\"text\\\": \\\"This creature can't be blocked by Humans.\\\\nWhenever this creature deals combat damage to a player, put a +1/+1 counter on it.\\\", \\\"toughness\\\": \\\"1\\\", \\\"types\\\": [\\\"Creature\\\"]}\", \"{\\\"colors\\\": [\\\"B\\\"], \\\"convertedManaCost\\\": 1, \\\"keywords\\\": null, \\\"manaCost\\\": \\\"{B}\\\", \\\"manaValue\\\": 1, \\\"name\\\": \\\"Vampiric Rites\\\", \\\"power\\\": null, \\\"rarity\\\": \\\"uncommon\\\", \\\"subtypes\\\": [], \\\"supertypes\\\": [], \\\"text\\\": \\\"{1}{B}, Sacrifice a creature: You gain 1 life and draw a card.\\\", \\\"toughness\\\": null, \\\"types\\\": [\\\"Enchantment\\\"]}\", \"{\\\"colors\\\": [\\\"W\\\"], \\\"convertedManaCost\\\": 2, \\\"keywords\\\": null, \\\"manaCost\\\": \\\"{1}{W}\\\", \\\"manaValue\\\": 2, \\\"name\\\": \\\"Disenchant\\\", \\\"power\\\": null, \\\"rarity\\\": \\\"common\\\", \\\"subtypes\\\": [], \\\"supertypes\\\": [], \\\"text\\\": \\\"Destroy target artifact or enchantment.\\\", \\\"toughness\\\": null, \\\"types\\\": [\\\"Instant\\\"]}\", \"{\\\"colors\\\": [\\\"G\\\", \\\"W\\\"], \\\"convertedManaCost\\\": 2, \\\"keywords\\\": null, \\\"manaCost\\\": \\\"{G}{W}\\\", \\\"manaValue\\\": 2, \\\"name\\\": \\\"Anthem of Champions\\\", \\\"power\\\": null, \\\"rarity\\\": \\\"rare\\\", \\\"subtypes\\\": [], \\\"supertypes\\\": [], \\\"text\\\": \\\"Creatures you control get +1/+1.\\\", \\\"toughness\\\": null, \\\"types\\\": [\\\"Enchantment\\\"]}\", \"{\\\"colors\\\": [\\\"U\\\"], \\\"convertedManaCost\\\": 3, \\\"keywords\\\": [\\\"Flying\\\"], \\\"manaCost\\\": \\\"{U}{U}{U}\\\", \\\"manaValue\\\": 3, \\\"name\\\": \\\"Tempest Djinn\\\", \\\"power\\\": \\\"0\\\", \\\"rarity\\\": \\\"rare\\\", \\\"subtypes\\\": [\\\"Djinn\\\"], \\\"supertypes\\\": [], \\\"text\\\": \\\"Flying\\\\nThis creature gets +1/+0 for each basic Island you control.\\\", \\\"toughness\\\": \\\"4\\\", \\\"types\\\": [\\\"Creature\\\"]}\", \"{\\\"colors\\\": [\\\"G\\\"], \\\"convertedManaCost\\\": 5, \\\"keywords\\\": null, \\\"manaCost\\\": \\\"{3}{G}{G}\\\", \\\"manaValue\\\": 5, \\\"name\\\": \\\"Heroes' Bane\\\", \\\"power\\\": \\\"0\\\", \\\"rarity\\\": \\\"rare\\\", \\\"subtypes\\\": [\\\"Hydra\\\"], \\\"supertypes\\\": [], \\\"text\\\": \\\"This creature enters with four +1/+1 counters on it.\\\\n{2}{G}{G}: Put X +1/+1 counters on this creature, where X is its power.\\\", \\\"toughness\\\": \\\"0\\\", \\\"types\\\": [\\\"Creature\\\"]}\", \"{\\\"colors\\\": [\\\"B\\\", \\\"R\\\"], \\\"convertedManaCost\\\": 3, \\\"keywords\\\": [\\\"Deathtouch\\\", \\\"Raid\\\"], \\\"manaCost\\\": \\\"{1}{B}{R}\\\", \\\"manaValue\\\": 3, \\\"name\\\": \\\"Perforating Artist\\\", \\\"power\\\": \\\"3\\\", \\\"rarity\\\": \\\"uncommon\\\", \\\"subtypes\\\": [\\\"Devil\\\"], \\\"supertypes\\\": [], \\\"text\\\": \\\"Deathtouch (Any amount of damage this deals to a creature is enough to destroy it.)\\\\nRaid \\\\u2014 At the beginning of your end step, if you attacked this turn, each opponent loses 3 life unless that player sacrifices a nonland permanent of their choice or discards a card.\\\", \\\"toughness\\\": \\\"2\\\", \\\"types\\\": [\\\"Creature\\\"]}\", \"{\\\"colors\\\": [\\\"B\\\"], \\\"convertedManaCost\\\": 3, \\\"keywords\\\": null, \\\"manaCost\\\": \\\"{2}{B}\\\", \\\"manaValue\\\": 3, \\\"name\\\": \\\"Marauding Blight-Priest\\\", \\\"power\\\": \\\"3\\\", \\\"rarity\\\": \\\"common\\\", \\\"subtypes\\\": [\\\"Vampire\\\", \\\"Cleric\\\"], \\\"supertypes\\\": [], \\\"text\\\": \\\"Whenever you gain life, each opponent loses 1 life.\\\", \\\"toughness\\\": \\\"2\\\", \\\"types\\\": [\\\"Creature\\\"]}\", \"{\\\"colors\\\": [\\\"B\\\"], \\\"convertedManaCost\\\": 3, \\\"keywords\\\": [\\\"Flying\\\", \\\"Mill\\\"], \\\"manaCost\\\": \\\"{2}{B}\\\", \\\"manaValue\\\": 3, \\\"name\\\": \\\"Crow of Dark Tidings\\\", \\\"power\\\": \\\"2\\\", \\\"rarity\\\": \\\"common\\\", \\\"subtypes\\\": [\\\"Zombie\\\", \\\"Bird\\\"], \\\"supertypes\\\": [], \\\"text\\\": \\\"Flying\\\\nWhen this creature enters or dies, mill two cards. (Put the top two cards of your library into your graveyard.)\\\", \\\"toughness\\\": \\\"1\\\", \\\"types\\\": [\\\"Creature\\\"]}\", \"{\\\"colors\\\": [\\\"B\\\"], \\\"convertedManaCost\\\": 1, \\\"keywords\\\": null, \\\"manaCost\\\": \\\"{B}\\\", \\\"manaValue\\\": 1, \\\"name\\\": \\\"Diregraf Ghoul\\\", \\\"power\\\": \\\"2\\\", \\\"rarity\\\": \\\"uncommon\\\", \\\"subtypes\\\": [\\\"Zombie\\\"], \\\"supertypes\\\": [], \\\"text\\\": \\\"This creature enters tapped.\\\", \\\"toughness\\\": \\\"2\\\", \\\"types\\\": [\\\"Creature\\\"]}\", \"{\\\"colors\\\": [\\\"B\\\", \\\"G\\\"], \\\"convertedManaCost\\\": 3, \\\"keywords\\\": null, \\\"manaCost\\\": \\\"{1}{B}{G}\\\", \\\"manaValue\\\": 3, \\\"name\\\": \\\"Maelstrom Pulse\\\", \\\"power\\\": null, \\\"rarity\\\": \\\"rare\\\", \\\"subtypes\\\": [], \\\"supertypes\\\": [], \\\"text\\\": \\\"Destroy target nonland permanent and all other permanents with the same name as that permanent.\\\", \\\"toughness\\\": null, \\\"types\\\": [\\\"Sorcery\\\"]}\", \"{\\\"colors\\\": [\\\"W\\\"], \\\"convertedManaCost\\\": 5, \\\"keywords\\\": [\\\"Flying\\\", \\\"Vigilance\\\"], \\\"manaCost\\\": \\\"{3}{W}{W}\\\", \\\"manaValue\\\": 5, \\\"name\\\": \\\"Serra Angel\\\", \\\"power\\\": \\\"4\\\", \\\"rarity\\\": \\\"uncommon\\\", \\\"subtypes\\\": [\\\"Angel\\\"], \\\"supertypes\\\": [], \\\"text\\\": \\\"Flying\\\\nVigilance (Attacking doesn't cause this creature to tap.)\\\", \\\"toughness\\\": \\\"4\\\", \\\"types\\\": [\\\"Creature\\\"]}\", \"{\\\"colors\\\": [\\\"U\\\"], \\\"convertedManaCost\\\": 2, \\\"keywords\\\": [\\\"Defender\\\", \\\"Flying\\\"], \\\"manaCost\\\": \\\"{1}{U}\\\", \\\"manaValue\\\": 2, \\\"name\\\": \\\"Fog Bank\\\", \\\"power\\\": \\\"0\\\", \\\"rarity\\\": \\\"uncommon\\\", \\\"subtypes\\\": [\\\"Wall\\\"], \\\"supertypes\\\": [], \\\"text\\\": \\\"Defender (This creature can't attack.)\\\\nFlying\\\\nPrevent all combat damage that would be dealt to and dealt by this creature.\\\", \\\"toughness\\\": \\\"2\\\", \\\"types\\\": [\\\"Creature\\\"]}\", \"{\\\"colors\\\": [\\\"B\\\"], \\\"convertedManaCost\\\": 6, \\\"keywords\\\": null, \\\"manaCost\\\": \\\"{5}{B}\\\", \\\"manaValue\\\": 6, \\\"name\\\": \\\"Maalfeld Twins\\\", \\\"power\\\": \\\"4\\\", \\\"rarity\\\": \\\"uncommon\\\", \\\"subtypes\\\": [\\\"Zombie\\\"], \\\"supertypes\\\": [], \\\"text\\\": \\\"When this creature dies, create two 2/2 black Zombie creature tokens.\\\", \\\"toughness\\\": \\\"4\\\", \\\"types\\\": [\\\"Creature\\\"]}\", \"{\\\"colors\\\": [\\\"W\\\"], \\\"convertedManaCost\\\": 5, \\\"keywords\\\": null, \\\"manaCost\\\": \\\"{3}{W}{W}\\\", \\\"manaValue\\\": 5, \\\"name\\\": \\\"Fumigate\\\", \\\"power\\\": null, \\\"rarity\\\": \\\"rare\\\", \\\"subtypes\\\": [], \\\"supertypes\\\": [], \\\"text\\\": \\\"Destroy all creatures. You gain 1 life for each creature destroyed this way.\\\", \\\"toughness\\\": null, \\\"types\\\": [\\\"Sorcery\\\"]}\", \"{\\\"colors\\\": [\\\"R\\\"], \\\"convertedManaCost\\\": 1, \\\"keywords\\\": null, \\\"manaCost\\\": \\\"{R}\\\", \\\"manaValue\\\": 1, \\\"name\\\": \\\"Boltwave\\\", \\\"power\\\": null, \\\"rarity\\\": \\\"uncommon\\\", \\\"subtypes\\\": [], \\\"supertypes\\\": [], \\\"text\\\": \\\"Boltwave deals 3 damage to each opponent.\\\", \\\"toughness\\\": null, \\\"types\\\": [\\\"Sorcery\\\"]}\", \"{\\\"colors\\\": [\\\"B\\\"], \\\"convertedManaCost\\\": 4, \\\"keywords\\\": null, \\\"manaCost\\\": \\\"{3}{B}\\\", \\\"manaValue\\\": 4, \\\"name\\\": \\\"Zombify\\\", \\\"power\\\": null, \\\"rarity\\\": \\\"uncommon\\\", \\\"subtypes\\\": [], \\\"supertypes\\\": [], \\\"text\\\": \\\"Return target creature card from your graveyard to the battlefield.\\\", \\\"toughness\\\": null, \\\"types\\\": [\\\"Sorcery\\\"]}\", \"{\\\"colors\\\": [\\\"W\\\"], \\\"convertedManaCost\\\": 3, \\\"keywords\\\": [\\\"Flying\\\"], \\\"manaCost\\\": \\\"{2}{W}\\\", \\\"manaValue\\\": 3, \\\"name\\\": \\\"Dazzling Angel\\\", \\\"power\\\": \\\"2\\\", \\\"rarity\\\": \\\"common\\\", \\\"subtypes\\\": [\\\"Angel\\\"], \\\"supertypes\\\": [], \\\"text\\\": \\\"Flying\\\\nWhenever another creature you control enters, you gain 1 life.\\\", \\\"toughness\\\": \\\"3\\\", \\\"types\\\": [\\\"Creature\\\"]}\", \"{\\\"colors\\\": [\\\"B\\\", \\\"G\\\", \\\"R\\\", \\\"U\\\", \\\"W\\\"], \\\"convertedManaCost\\\": 10, \\\"keywords\\\": [\\\"Protection\\\"], \\\"manaCost\\\": \\\"{W}{W}{U}{U}{B}{B}{R}{R}{G}{G}\\\", \\\"manaValue\\\": 10, \\\"name\\\": \\\"Progenitus\\\", \\\"power\\\": \\\"10\\\", \\\"rarity\\\": \\\"mythic\\\", \\\"subtypes\\\": [\\\"Hydra\\\", \\\"Avatar\\\"], \\\"supertypes\\\": [\\\"Legendary\\\"], \\\"text\\\": \\\"Protection from everything\\\\nIf Progenitus would be put into a graveyard from anywhere, reveal Progenitus and shuffle it into its owner's library instead.\\\", \\\"toughness\\\": \\\"10\\\", \\\"types\\\": [\\\"Creature\\\"]}\", \"{\\\"colors\\\": [\\\"R\\\"], \\\"convertedManaCost\\\": 4, \\\"keywords\\\": null, \\\"manaCost\\\": \\\"{2}{R}{R}\\\", \\\"manaValue\\\": 4, \\\"name\\\": \\\"Ravenous Giant\\\", \\\"power\\\": \\\"5\\\", \\\"rarity\\\": \\\"uncommon\\\", \\\"subtypes\\\": [\\\"Giant\\\"], \\\"supertypes\\\": [], \\\"text\\\": \\\"At the beginning of your upkeep, this creature deals 1 damage to you.\\\", \\\"toughness\\\": \\\"5\\\", \\\"types\\\": [\\\"Creature\\\"]}\", \"{\\\"colors\\\": [\\\"B\\\"], \\\"convertedManaCost\\\": 4, \\\"keywords\\\": [\\\"Deathtouch\\\"], \\\"manaCost\\\": \\\"{2}{B}{B}\\\", \\\"manaValue\\\": 4, \\\"name\\\": \\\"Vile Entomber\\\", \\\"power\\\": \\\"2\\\", \\\"rarity\\\": \\\"uncommon\\\", \\\"subtypes\\\": [\\\"Zombie\\\", \\\"Warlock\\\"], \\\"supertypes\\\": [], \\\"text\\\": \\\"Deathtouch (Any amount of damage this deals to a creature is enough to destroy it.)\\\\nWhen this creature enters, search your library for a card, put that card into your graveyard, then shuffle.\\\", \\\"toughness\\\": \\\"2\\\", \\\"types\\\": [\\\"Creature\\\"]}\", \"{\\\"colors\\\": [\\\"R\\\"], \\\"convertedManaCost\\\": 2, \\\"keywords\\\": null, \\\"manaCost\\\": \\\"{1}{R}\\\", \\\"manaValue\\\": 2, \\\"name\\\": \\\"Impact Tremors\\\", \\\"power\\\": null, \\\"rarity\\\": \\\"common\\\", \\\"subtypes\\\": [], \\\"supertypes\\\": [], \\\"text\\\": \\\"Whenever a creature you control enters, this enchantment deals 1 damage to each opponent.\\\", \\\"toughness\\\": null, \\\"types\\\": [\\\"Enchantment\\\"]}\", \"{\\\"colors\\\": [\\\"G\\\"], \\\"convertedManaCost\\\": 3, \\\"keywords\\\": null, \\\"manaCost\\\": \\\"{2}{G}\\\", \\\"manaValue\\\": 3, \\\"name\\\": \\\"Broken Wings\\\", \\\"power\\\": null, \\\"rarity\\\": \\\"common\\\", \\\"subtypes\\\": [], \\\"supertypes\\\": [], \\\"text\\\": \\\"Destroy target artifact, enchantment, or creature with flying.\\\", \\\"toughness\\\": null, \\\"types\\\": [\\\"Instant\\\"]}\", \"{\\\"colors\\\": [\\\"B\\\", \\\"W\\\"], \\\"convertedManaCost\\\": 3, \\\"keywords\\\": null, \\\"manaCost\\\": \\\"{1}{W}{B}\\\", \\\"manaValue\\\": 3, \\\"name\\\": \\\"Mortify\\\", \\\"power\\\": null, \\\"rarity\\\": \\\"uncommon\\\", \\\"subtypes\\\": [], \\\"supertypes\\\": [], \\\"text\\\": \\\"Destroy target creature or enchantment.\\\", \\\"toughness\\\": null, \\\"types\\\": [\\\"Instant\\\"]}\", \"{\\\"colors\\\": [\\\"R\\\"], \\\"convertedManaCost\\\": 2, \\\"keywords\\\": null, \\\"manaCost\\\": \\\"{1}{R}\\\", \\\"manaValue\\\": 2, \\\"name\\\": \\\"Scorching Dragonfire\\\", \\\"power\\\": null, \\\"rarity\\\": \\\"common\\\", \\\"subtypes\\\": [], \\\"supertypes\\\": [], \\\"text\\\": \\\"Scorching Dragonfire deals 3 damage to target creature or planeswalker. If that creature or planeswalker would die this turn, exile it instead.\\\", \\\"toughness\\\": null, \\\"types\\\": [\\\"Instant\\\"]}\", \"{\\\"colors\\\": [\\\"G\\\"], \\\"convertedManaCost\\\": 5, \\\"keywords\\\": null, \\\"manaCost\\\": \\\"{G}{G}{G}{G}{G}\\\", \\\"manaValue\\\": 5, \\\"name\\\": \\\"Gigantosaurus\\\", \\\"power\\\": \\\"10\\\", \\\"rarity\\\": \\\"rare\\\", \\\"subtypes\\\": [\\\"Dinosaur\\\"], \\\"supertypes\\\": [], \\\"text\\\": null, \\\"toughness\\\": \\\"10\\\", \\\"types\\\": [\\\"Creature\\\"]}\", \"{\\\"colors\\\": [\\\"G\\\"], \\\"convertedManaCost\\\": 3, \\\"keywords\\\": null, \\\"manaCost\\\": \\\"{2}{G}\\\", \\\"manaValue\\\": 3, \\\"name\\\": \\\"Reclamation Sage\\\", \\\"power\\\": \\\"2\\\", \\\"rarity\\\": \\\"uncommon\\\", \\\"subtypes\\\": [\\\"Elf\\\", \\\"Shaman\\\"], \\\"supertypes\\\": [], \\\"text\\\": \\\"When this creature enters, you may destroy target artifact or enchantment.\\\", \\\"toughness\\\": \\\"1\\\", \\\"types\\\": [\\\"Creature\\\"]}\", \"{\\\"colors\\\": [\\\"G\\\"], \\\"convertedManaCost\\\": 3, \\\"keywords\\\": null, \\\"manaCost\\\": \\\"{1}{G}{G}\\\", \\\"manaValue\\\": 3, \\\"name\\\": \\\"Thrashing Brontodon\\\", \\\"power\\\": \\\"3\\\", \\\"rarity\\\": \\\"uncommon\\\", \\\"subtypes\\\": [\\\"Dinosaur\\\"], \\\"supertypes\\\": [], \\\"text\\\": \\\"{1}, Sacrifice this creature: Destroy target artifact or enchantment.\\\", \\\"toughness\\\": \\\"4\\\", \\\"types\\\": [\\\"Creature\\\"]}\", \"{\\\"colors\\\": [\\\"R\\\"], \\\"convertedManaCost\\\": 2, \\\"keywords\\\": null, \\\"manaCost\\\": \\\"{1}{R}\\\", \\\"manaValue\\\": 2, \\\"name\\\": \\\"Dragonlord's Servant\\\", \\\"power\\\": \\\"1\\\", \\\"rarity\\\": \\\"uncommon\\\", \\\"subtypes\\\": [\\\"Goblin\\\", \\\"Shaman\\\"], \\\"supertypes\\\": [], \\\"text\\\": \\\"Dragon spells you cast cost {1} less to cast.\\\", \\\"toughness\\\": \\\"3\\\", \\\"types\\\": [\\\"Creature\\\"]}\", \"{\\\"colors\\\": [\\\"R\\\"], \\\"convertedManaCost\\\": 5, \\\"keywords\\\": null, \\\"manaCost\\\": \\\"{3}{R}{R}\\\", \\\"manaValue\\\": 5, \\\"name\\\": \\\"Dragon Trainer\\\", \\\"power\\\": \\\"1\\\", \\\"rarity\\\": \\\"uncommon\\\", \\\"subtypes\\\": [\\\"Human\\\"], \\\"supertypes\\\": [], \\\"text\\\": \\\"When this creature enters, create a 4/4 red Dragon creature token with flying.\\\", \\\"toughness\\\": \\\"1\\\", \\\"types\\\": [\\\"Creature\\\"]}\", \"{\\\"colors\\\": [\\\"R\\\"], \\\"convertedManaCost\\\": 3, \\\"keywords\\\": [\\\"Trample\\\"], \\\"manaCost\\\": \\\"{2}{R}\\\", \\\"manaValue\\\": 3, \\\"name\\\": \\\"Giant Cindermaw\\\", \\\"power\\\": \\\"4\\\", \\\"rarity\\\": \\\"uncommon\\\", \\\"subtypes\\\": [\\\"Dinosaur\\\", \\\"Beast\\\"], \\\"supertypes\\\": [], \\\"text\\\": \\\"Trample (This creature can deal excess combat damage to the player or planeswalker it's attacking.)\\\\nPlayers can't gain life.\\\", \\\"toughness\\\": \\\"3\\\", \\\"types\\\": [\\\"Creature\\\"]}\", \"{\\\"colors\\\": [\\\"G\\\"], \\\"convertedManaCost\\\": 1, \\\"keywords\\\": null, \\\"manaCost\\\": \\\"{G}\\\", \\\"manaValue\\\": 1, \\\"name\\\": \\\"Llanowar Elves\\\", \\\"power\\\": \\\"1\\\", \\\"rarity\\\": \\\"mythic\\\", \\\"subtypes\\\": [\\\"Elf\\\", \\\"Druid\\\"], \\\"supertypes\\\": [], \\\"text\\\": \\\"{T}: Add {G}.\\\", \\\"toughness\\\": \\\"1\\\", \\\"types\\\": [\\\"Creature\\\"]}\", \"{\\\"colors\\\": [\\\"B\\\"], \\\"convertedManaCost\\\": 8, \\\"keywords\\\": null, \\\"manaCost\\\": \\\"{5}{B}{B}{B}\\\", \\\"manaValue\\\": 8, \\\"name\\\": \\\"Myojin of Night's Reach\\\", \\\"power\\\": \\\"5\\\", \\\"rarity\\\": \\\"rare\\\", \\\"subtypes\\\": [\\\"Spirit\\\"], \\\"supertypes\\\": [\\\"Legendary\\\"], \\\"text\\\": \\\"Myojin of Night's Reach enters with a divinity counter on it if you cast it from your hand.\\\\nMyojin of Night's Reach has indestructible as long as it has a divinity counter on it.\\\\nRemove a divinity counter from Myojin of Night's Reach: Each opponent discards their hand.\\\", \\\"toughness\\\": \\\"2\\\", \\\"types\\\": [\\\"Creature\\\"]}\", \"{\\\"colors\\\": [\\\"B\\\"], \\\"convertedManaCost\\\": 6, \\\"keywords\\\": null, \\\"manaCost\\\": \\\"{5}{B}\\\", \\\"manaValue\\\": 6, \\\"name\\\": \\\"Crossway Troublemakers\\\", \\\"power\\\": \\\"5\\\", \\\"rarity\\\": \\\"rare\\\", \\\"subtypes\\\": [\\\"Vampire\\\"], \\\"supertypes\\\": [], \\\"text\\\": \\\"Attacking Vampires you control have deathtouch and lifelink. (Any amount of damage they deal to a creature is enough to destroy it. Damage dealt by those creatures also causes their controller to gain that much life.)\\\\nWhenever a Vampire you control dies, you may pay 2 life. If you do, draw a card.\\\", \\\"toughness\\\": \\\"5\\\", \\\"types\\\": [\\\"Creature\\\"]}\", \"{\\\"colors\\\": [\\\"W\\\"], \\\"convertedManaCost\\\": 5, \\\"keywords\\\": [\\\"Flying\\\"], \\\"manaCost\\\": \\\"{3}{W}{W}\\\", \\\"manaValue\\\": 5, \\\"name\\\": \\\"Herald of Faith\\\", \\\"power\\\": \\\"4\\\", \\\"rarity\\\": \\\"uncommon\\\", \\\"subtypes\\\": [\\\"Angel\\\"], \\\"supertypes\\\": [], \\\"text\\\": \\\"Flying\\\\nWhenever this creature attacks, you gain 2 life.\\\", \\\"toughness\\\": \\\"3\\\", \\\"types\\\": [\\\"Creature\\\"]}\", \"{\\\"colors\\\": [\\\"R\\\"], \\\"convertedManaCost\\\": 1, \\\"keywords\\\": null, \\\"manaCost\\\": \\\"{R}\\\", \\\"manaValue\\\": 1, \\\"name\\\": \\\"Dragonmaster Outcast\\\", \\\"power\\\": \\\"1\\\", \\\"rarity\\\": \\\"mythic\\\", \\\"subtypes\\\": [\\\"Human\\\", \\\"Shaman\\\"], \\\"supertypes\\\": [], \\\"text\\\": \\\"At the beginning of your upkeep, if you control six or more lands, create a 5/5 red Dragon creature token with flying.\\\", \\\"toughness\\\": \\\"1\\\", \\\"types\\\": [\\\"Creature\\\"]}\", \"{\\\"colors\\\": [\\\"U\\\"], \\\"convertedManaCost\\\": 1, \\\"keywords\\\": null, \\\"manaCost\\\": \\\"{U}\\\", \\\"manaValue\\\": 1, \\\"name\\\": \\\"Unsummon\\\", \\\"power\\\": null, \\\"rarity\\\": \\\"common\\\", \\\"subtypes\\\": [], \\\"supertypes\\\": [], \\\"text\\\": \\\"Return target creature to its owner's hand.\\\", \\\"toughness\\\": null, \\\"types\\\": [\\\"Instant\\\"]}\", \"{\\\"colors\\\": [\\\"B\\\"], \\\"convertedManaCost\\\": 1, \\\"keywords\\\": null, \\\"manaCost\\\": \\\"{B}\\\", \\\"manaValue\\\": 1, \\\"name\\\": \\\"Duress\\\", \\\"power\\\": null, \\\"rarity\\\": \\\"common\\\", \\\"subtypes\\\": [], \\\"supertypes\\\": [], \\\"text\\\": \\\"Target opponent reveals their hand. You choose a noncreature, nonland card from it. That player discards that card.\\\", \\\"toughness\\\": null, \\\"types\\\": [\\\"Sorcery\\\"]}\", \"{\\\"colors\\\": [\\\"U\\\"], \\\"convertedManaCost\\\": 2, \\\"keywords\\\": null, \\\"manaCost\\\": \\\"{1}{U}\\\", \\\"manaValue\\\": 2, \\\"name\\\": \\\"Mystic Archaeologist\\\", \\\"power\\\": \\\"2\\\", \\\"rarity\\\": \\\"rare\\\", \\\"subtypes\\\": [\\\"Human\\\", \\\"Wizard\\\"], \\\"supertypes\\\": [], \\\"text\\\": \\\"{3}{U}{U}: Draw two cards.\\\", \\\"toughness\\\": \\\"1\\\", \\\"types\\\": [\\\"Creature\\\"]}\", \"{\\\"colors\\\": [\\\"W\\\"], \\\"convertedManaCost\\\": 2, \\\"keywords\\\": [\\\"Flying\\\"], \\\"manaCost\\\": \\\"{W}{W}\\\", \\\"manaValue\\\": 2, \\\"name\\\": \\\"Leonin Skyhunter\\\", \\\"power\\\": \\\"2\\\", \\\"rarity\\\": \\\"uncommon\\\", \\\"subtypes\\\": [\\\"Cat\\\", \\\"Knight\\\"], \\\"supertypes\\\": [], \\\"text\\\": \\\"Flying\\\", \\\"toughness\\\": \\\"2\\\", \\\"types\\\": [\\\"Creature\\\"]}\", \"{\\\"colors\\\": [], \\\"convertedManaCost\\\": 1, \\\"keywords\\\": null, \\\"manaCost\\\": \\\"{1}\\\", \\\"manaValue\\\": 1, \\\"name\\\": \\\"Soul-Guide Lantern\\\", \\\"power\\\": null, \\\"rarity\\\": \\\"uncommon\\\", \\\"subtypes\\\": [], \\\"supertypes\\\": [], \\\"text\\\": \\\"When this artifact enters, exile target card from a graveyard.\\\\n{T}, Sacrifice this artifact: Exile each opponent's graveyard.\\\\n{1}, {T}, Sacrifice this artifact: Draw a card.\\\", \\\"toughness\\\": null, \\\"types\\\": [\\\"Artifact\\\"]}\", \"{\\\"colors\\\": [], \\\"convertedManaCost\\\": 4, \\\"keywords\\\": null, \\\"manaCost\\\": \\\"{4}\\\", \\\"manaValue\\\": 4, \\\"name\\\": \\\"Juggernaut\\\", \\\"power\\\": \\\"5\\\", \\\"rarity\\\": \\\"uncommon\\\", \\\"subtypes\\\": [\\\"Juggernaut\\\"], \\\"supertypes\\\": [], \\\"text\\\": \\\"This creature attacks each combat if able.\\\\nThis creature can't be blocked by Walls.\\\", \\\"toughness\\\": \\\"3\\\", \\\"types\\\": [\\\"Artifact\\\", \\\"Creature\\\"]}\", \"{\\\"colors\\\": [\\\"W\\\"], \\\"convertedManaCost\\\": 8, \\\"keywords\\\": [\\\"Double strike\\\", \\\"Flying\\\", \\\"Indestructible\\\", \\\"Trample\\\", \\\"Vigilance\\\"], \\\"manaCost\\\": \\\"{6}{W}{W}\\\", \\\"manaValue\\\": 8, \\\"name\\\": \\\"Zetalpa, Primal Dawn\\\", \\\"power\\\": \\\"4\\\", \\\"rarity\\\": \\\"rare\\\", \\\"subtypes\\\": [\\\"Elder\\\", \\\"Dinosaur\\\"], \\\"supertypes\\\": [\\\"Legendary\\\"], \\\"text\\\": \\\"Flying, double strike, vigilance, trample, indestructible\\\", \\\"toughness\\\": \\\"8\\\", \\\"types\\\": [\\\"Creature\\\"]}\", \"{\\\"colors\\\": [\\\"B\\\"], \\\"convertedManaCost\\\": 3, \\\"keywords\\\": null, \\\"manaCost\\\": \\\"{1}{B}{B}\\\", \\\"manaValue\\\": 3, \\\"name\\\": \\\"Hero's Downfall\\\", \\\"power\\\": null, \\\"rarity\\\": \\\"uncommon\\\", \\\"subtypes\\\": [], \\\"supertypes\\\": [], \\\"text\\\": \\\"Destroy target creature or planeswalker.\\\", \\\"toughness\\\": null, \\\"types\\\": [\\\"Instant\\\"]}\", \"{\\\"colors\\\": [\\\"G\\\"], \\\"convertedManaCost\\\": 2, \\\"keywords\\\": null, \\\"manaCost\\\": \\\"{1}{G}\\\", \\\"manaValue\\\": 2, \\\"name\\\": \\\"Venom Connoisseur\\\", \\\"power\\\": \\\"2\\\", \\\"rarity\\\": \\\"uncommon\\\", \\\"subtypes\\\": [\\\"Human\\\", \\\"Druid\\\"], \\\"supertypes\\\": [], \\\"text\\\": \\\"Whenever another creature you control enters, this creature gains deathtouch until end of turn. If this is the second time this ability has resolved this turn, all creatures you control gain deathtouch until end of turn.\\\", \\\"toughness\\\": \\\"2\\\", \\\"types\\\": [\\\"Creature\\\"]}\", \"{\\\"colors\\\": [\\\"B\\\"], \\\"convertedManaCost\\\": 4, \\\"keywords\\\": null, \\\"manaCost\\\": \\\"{3}{B}\\\", \\\"manaValue\\\": 4, \\\"name\\\": \\\"Soul-Shackled Zombie\\\", \\\"power\\\": \\\"4\\\", \\\"rarity\\\": \\\"common\\\", \\\"subtypes\\\": [\\\"Zombie\\\"], \\\"supertypes\\\": [], \\\"text\\\": \\\"When this creature enters, exile up to two target cards from a single graveyard. If at least one creature card was exiled this way, each opponent loses 2 life and you gain 2 life.\\\", \\\"toughness\\\": \\\"2\\\", \\\"types\\\": [\\\"Creature\\\"]}\", \"{\\\"colors\\\": [\\\"U\\\"], \\\"convertedManaCost\\\": 6, \\\"keywords\\\": null, \\\"manaCost\\\": \\\"{3}{U}{U}{U}\\\", \\\"manaValue\\\": 6, \\\"name\\\": \\\"Arcanis the Omnipotent\\\", \\\"power\\\": \\\"3\\\", \\\"rarity\\\": \\\"rare\\\", \\\"subtypes\\\": [\\\"Wizard\\\"], \\\"supertypes\\\": [\\\"Legendary\\\"], \\\"text\\\": \\\"{T}: Draw three cards.\\\\n{2}{U}{U}: Return Arcanis to its owner's hand.\\\", \\\"toughness\\\": \\\"4\\\", \\\"types\\\": [\\\"Creature\\\"]}\", \"{\\\"colors\\\": [\\\"G\\\"], \\\"convertedManaCost\\\": 1, \\\"keywords\\\": null, \\\"manaCost\\\": \\\"{G}\\\", \\\"manaValue\\\": 1, \\\"name\\\": \\\"Llanowar Elves\\\", \\\"power\\\": \\\"1\\\", \\\"rarity\\\": \\\"common\\\", \\\"subtypes\\\": [\\\"Elf\\\", \\\"Druid\\\"], \\\"supertypes\\\": [], \\\"text\\\": \\\"{T}: Add {G}.\\\", \\\"toughness\\\": \\\"1\\\", \\\"types\\\": [\\\"Creature\\\"]}\", \"{\\\"colors\\\": [\\\"B\\\"], \\\"convertedManaCost\\\": 3, \\\"keywords\\\": null, \\\"manaCost\\\": \\\"{2}{B}\\\", \\\"manaValue\\\": 3, \\\"name\\\": \\\"Seeker's Folly\\\", \\\"power\\\": null, \\\"rarity\\\": \\\"uncommon\\\", \\\"subtypes\\\": [], \\\"supertypes\\\": [], \\\"text\\\": \\\"Choose one \\\\u2014\\\\n\\\\u2022 Target opponent discards two cards.\\\\n\\\\u2022 Creatures your opponents control get -1/-1 until end of turn.\\\", \\\"toughness\\\": null, \\\"types\\\": [\\\"Sorcery\\\"]}\", \"{\\\"colors\\\": [], \\\"convertedManaCost\\\": 7, \\\"keywords\\\": null, \\\"manaCost\\\": \\\"{7}\\\", \\\"manaValue\\\": 7, \\\"name\\\": \\\"Meteor Golem\\\", \\\"power\\\": \\\"3\\\", \\\"rarity\\\": \\\"uncommon\\\", \\\"subtypes\\\": [\\\"Golem\\\"], \\\"supertypes\\\": [], \\\"text\\\": \\\"When this creature enters, destroy target nonland permanent an opponent controls.\\\", \\\"toughness\\\": \\\"3\\\", \\\"types\\\": [\\\"Artifact\\\", \\\"Creature\\\"]}\", \"{\\\"colors\\\": [\\\"B\\\", \\\"R\\\"], \\\"convertedManaCost\\\": 4, \\\"keywords\\\": [\\\"Flying\\\"], \\\"manaCost\\\": \\\"{2}{B}{R}\\\", \\\"manaValue\\\": 4, \\\"name\\\": \\\"Immersturm Predator\\\", \\\"power\\\": \\\"3\\\", \\\"rarity\\\": \\\"rare\\\", \\\"subtypes\\\": [\\\"Vampire\\\", \\\"Dragon\\\"], \\\"supertypes\\\": [], \\\"text\\\": \\\"Flying\\\\nWhenever this creature becomes tapped, exile up to one target card from a graveyard and put a +1/+1 counter on this creature.\\\\nSacrifice another creature: This creature gains indestructible until end of turn. Tap it.\\\", \\\"toughness\\\": \\\"3\\\", \\\"types\\\": [\\\"Creature\\\"]}\", \"{\\\"colors\\\": [\\\"R\\\"], \\\"convertedManaCost\\\": 2, \\\"keywords\\\": null, \\\"manaCost\\\": \\\"{1}{R}\\\", \\\"manaValue\\\": 2, \\\"name\\\": \\\"Viashino Pyromancer\\\", \\\"power\\\": \\\"2\\\", \\\"rarity\\\": \\\"common\\\", \\\"subtypes\\\": [\\\"Lizard\\\", \\\"Wizard\\\"], \\\"supertypes\\\": [], \\\"text\\\": \\\"When this creature enters, it deals 2 damage to target player or planeswalker.\\\", \\\"toughness\\\": \\\"1\\\", \\\"types\\\": [\\\"Creature\\\"]}\", \"{\\\"colors\\\": [\\\"R\\\"], \\\"convertedManaCost\\\": 4, \\\"keywords\\\": null, \\\"manaCost\\\": \\\"{3}{R}\\\", \\\"manaValue\\\": 4, \\\"name\\\": \\\"Volley Veteran\\\", \\\"power\\\": \\\"4\\\", \\\"rarity\\\": \\\"uncommon\\\", \\\"subtypes\\\": [\\\"Goblin\\\", \\\"Warrior\\\"], \\\"supertypes\\\": [], \\\"text\\\": \\\"When this creature enters, it deals damage to target creature an opponent controls equal to the number of Goblins you control.\\\", \\\"toughness\\\": \\\"2\\\", \\\"types\\\": [\\\"Creature\\\"]}\", \"{\\\"colors\\\": [\\\"W\\\"], \\\"convertedManaCost\\\": 2, \\\"keywords\\\": [\\\"Flying\\\"], \\\"manaCost\\\": \\\"{1}{W}\\\", \\\"manaValue\\\": 2, \\\"name\\\": \\\"Youthful Valkyrie\\\", \\\"power\\\": \\\"1\\\", \\\"rarity\\\": \\\"uncommon\\\", \\\"subtypes\\\": [\\\"Angel\\\"], \\\"supertypes\\\": [], \\\"text\\\": \\\"Flying\\\\nWhenever another Angel you control enters, put a +1/+1 counter on this creature.\\\", \\\"toughness\\\": \\\"3\\\", \\\"types\\\": [\\\"Creature\\\"]}\", \"{\\\"colors\\\": [\\\"W\\\"], \\\"convertedManaCost\\\": 3, \\\"keywords\\\": null, \\\"manaCost\\\": \\\"{2}{W}\\\", \\\"manaValue\\\": 3, \\\"name\\\": \\\"Crusader of Odric\\\", \\\"power\\\": \\\"*\\\", \\\"rarity\\\": \\\"common\\\", \\\"subtypes\\\": [\\\"Human\\\", \\\"Soldier\\\"], \\\"supertypes\\\": [], \\\"text\\\": \\\"Crusader of Odric's power and toughness are each equal to the number of creatures you control.\\\", \\\"toughness\\\": \\\"*\\\", \\\"types\\\": [\\\"Creature\\\"]}\", \"{\\\"colors\\\": [\\\"B\\\"], \\\"convertedManaCost\\\": 2, \\\"keywords\\\": null, \\\"manaCost\\\": \\\"{1}{B}\\\", \\\"manaValue\\\": 2, \\\"name\\\": \\\"Hungry Ghoul\\\", \\\"power\\\": \\\"2\\\", \\\"rarity\\\": \\\"common\\\", \\\"subtypes\\\": [\\\"Zombie\\\"], \\\"supertypes\\\": [], \\\"text\\\": \\\"{1}, Sacrifice another creature: Put a +1/+1 counter on this creature.\\\", \\\"toughness\\\": \\\"2\\\", \\\"types\\\": [\\\"Creature\\\"]}\", \"{\\\"colors\\\": [\\\"R\\\"], \\\"convertedManaCost\\\": 2, \\\"keywords\\\": [\\\"Prowess\\\"], \\\"manaCost\\\": \\\"{1}{R}\\\", \\\"manaValue\\\": 2, \\\"name\\\": \\\"Heartfire Immolator\\\", \\\"power\\\": \\\"2\\\", \\\"rarity\\\": \\\"uncommon\\\", \\\"subtypes\\\": [\\\"Human\\\", \\\"Wizard\\\"], \\\"supertypes\\\": [], \\\"text\\\": \\\"Prowess (Whenever you cast a noncreature spell, this creature gets +1/+1 until end of turn.)\\\\n{R}, Sacrifice this creature: It deals damage equal to its power to target creature or planeswalker.\\\", \\\"toughness\\\": \\\"2\\\", \\\"types\\\": [\\\"Creature\\\"]}\", \"{\\\"colors\\\": [], \\\"convertedManaCost\\\": 6, \\\"keywords\\\": [\\\"Flying\\\"], \\\"manaCost\\\": \\\"{6}\\\", \\\"manaValue\\\": 6, \\\"name\\\": \\\"Ramos, Dragon Engine\\\", \\\"power\\\": \\\"4\\\", \\\"rarity\\\": \\\"mythic\\\", \\\"subtypes\\\": [\\\"Dragon\\\"], \\\"supertypes\\\": [\\\"Legendary\\\"], \\\"text\\\": \\\"Flying\\\\nWhenever you cast a spell, put a +1/+1 counter on Ramos for each of that spell's colors.\\\\nRemove five +1/+1 counters from Ramos: Add {W}{W}{U}{U}{B}{B}{R}{R}{G}{G}. Activate only once each turn.\\\", \\\"toughness\\\": \\\"4\\\", \\\"types\\\": [\\\"Artifact\\\", \\\"Creature\\\"]}\", \"{\\\"colors\\\": [\\\"W\\\"], \\\"convertedManaCost\\\": 2, \\\"keywords\\\": [\\\"Enchant\\\"], \\\"manaCost\\\": \\\"{1}{W}\\\", \\\"manaValue\\\": 2, \\\"name\\\": \\\"Pacifism\\\", \\\"power\\\": null, \\\"rarity\\\": \\\"common\\\", \\\"subtypes\\\": [\\\"Aura\\\"], \\\"supertypes\\\": [], \\\"text\\\": \\\"Enchant creature\\\\nEnchanted creature can't attack or block.\\\", \\\"toughness\\\": null, \\\"types\\\": [\\\"Enchantment\\\"]}\", \"{\\\"colors\\\": [\\\"R\\\"], \\\"convertedManaCost\\\": 3, \\\"keywords\\\": [\\\"Flying\\\"], \\\"manaCost\\\": \\\"{2}{R}\\\", \\\"manaValue\\\": 3, \\\"name\\\": \\\"Firespitter Whelp\\\", \\\"power\\\": \\\"2\\\", \\\"rarity\\\": \\\"uncommon\\\", \\\"subtypes\\\": [\\\"Dragon\\\"], \\\"supertypes\\\": [], \\\"text\\\": \\\"Flying\\\\nWhenever you cast a noncreature or Dragon spell, Firespitter Whelp deals 1 damage to each opponent.\\\", \\\"toughness\\\": \\\"2\\\", \\\"types\\\": [\\\"Creature\\\"]}\", \"{\\\"colors\\\": [\\\"W\\\"], \\\"convertedManaCost\\\": 2, \\\"keywords\\\": [\\\"Lifelink\\\"], \\\"manaCost\\\": \\\"{1}{W}\\\", \\\"manaValue\\\": 2, \\\"name\\\": \\\"Bishop's Soldier\\\", \\\"power\\\": \\\"2\\\", \\\"rarity\\\": \\\"common\\\", \\\"subtypes\\\": [\\\"Vampire\\\", \\\"Soldier\\\"], \\\"supertypes\\\": [], \\\"text\\\": \\\"Lifelink (Damage dealt by this creature also causes you to gain that much life.)\\\", \\\"toughness\\\": \\\"2\\\", \\\"types\\\": [\\\"Creature\\\"]}\", \"{\\\"colors\\\": [\\\"W\\\"], \\\"convertedManaCost\\\": 2, \\\"keywords\\\": [\\\"Scry\\\"], \\\"manaCost\\\": \\\"{1}{W}\\\", \\\"manaValue\\\": 2, \\\"name\\\": \\\"Devout Decree\\\", \\\"power\\\": null, \\\"rarity\\\": \\\"uncommon\\\", \\\"subtypes\\\": [], \\\"supertypes\\\": [], \\\"text\\\": \\\"Exile target creature or planeswalker that's black or red. Scry 1. (Look at the top card of your library. You may put that card on the bottom.)\\\", \\\"toughness\\\": null, \\\"types\\\": [\\\"Sorcery\\\"]}\", \"{\\\"colors\\\": [\\\"G\\\", \\\"U\\\"], \\\"convertedManaCost\\\": 4, \\\"keywords\\\": null, \\\"manaCost\\\": \\\"{2}{G}{U}\\\", \\\"manaValue\\\": 4, \\\"name\\\": \\\"Zimone, Paradox Sculptor\\\", \\\"power\\\": \\\"1\\\", \\\"rarity\\\": \\\"mythic\\\", \\\"subtypes\\\": [\\\"Human\\\", \\\"Wizard\\\"], \\\"supertypes\\\": [\\\"Legendary\\\"], \\\"text\\\": \\\"At the beginning of combat on your turn, put a +1/+1 counter on each of up to two target creatures you control.\\\\n{G}{U}, {T}: Double the number of each kind of counter on up to two target creatures and/or artifacts you control.\\\", \\\"toughness\\\": \\\"4\\\", \\\"types\\\": [\\\"Creature\\\"]}\", \"{\\\"colors\\\": [\\\"W\\\"], \\\"convertedManaCost\\\": 6, \\\"keywords\\\": [\\\"Flying\\\"], \\\"manaCost\\\": \\\"{4}{W}{W}\\\", \\\"manaValue\\\": 6, \\\"name\\\": \\\"Ancestor Dragon\\\", \\\"power\\\": \\\"5\\\", \\\"rarity\\\": \\\"rare\\\", \\\"subtypes\\\": [\\\"Dragon\\\"], \\\"supertypes\\\": [], \\\"text\\\": \\\"Flying\\\\nWhenever one or more creatures you control attack, you gain 1 life for each attacking creature.\\\", \\\"toughness\\\": \\\"6\\\", \\\"types\\\": [\\\"Creature\\\"]}\", \"{\\\"colors\\\": [\\\"B\\\"], \\\"convertedManaCost\\\": 3, \\\"keywords\\\": null, \\\"manaCost\\\": \\\"{2}{B}\\\", \\\"manaValue\\\": 3, \\\"name\\\": \\\"Midnight Reaper\\\", \\\"power\\\": \\\"3\\\", \\\"rarity\\\": \\\"rare\\\", \\\"subtypes\\\": [\\\"Zombie\\\", \\\"Knight\\\"], \\\"supertypes\\\": [], \\\"text\\\": \\\"Whenever a nontoken creature you control dies, this creature deals 1 damage to you and you draw a card.\\\", \\\"toughness\\\": \\\"2\\\", \\\"types\\\": [\\\"Creature\\\"]}\", \"{\\\"colors\\\": [\\\"W\\\"], \\\"convertedManaCost\\\": 1, \\\"keywords\\\": null, \\\"manaCost\\\": \\\"{W}\\\", \\\"manaValue\\\": 1, \\\"name\\\": \\\"Elspeth's Smite\\\", \\\"power\\\": null, \\\"rarity\\\": \\\"uncommon\\\", \\\"subtypes\\\": [], \\\"supertypes\\\": [], \\\"text\\\": \\\"Elspeth's Smite deals 3 damage to target attacking or blocking creature. If that creature would die this turn, exile it instead.\\\", \\\"toughness\\\": null, \\\"types\\\": [\\\"Instant\\\"]}\", \"{\\\"colors\\\": [\\\"G\\\", \\\"R\\\"], \\\"convertedManaCost\\\": 4, \\\"keywords\\\": [\\\"Trample\\\"], \\\"manaCost\\\": \\\"{2}{R}{G}\\\", \\\"manaValue\\\": 4, \\\"name\\\": \\\"Ashroot Animist\\\", \\\"power\\\": \\\"4\\\", \\\"rarity\\\": \\\"rare\\\", \\\"subtypes\\\": [\\\"Lizard\\\", \\\"Druid\\\"], \\\"supertypes\\\": [], \\\"text\\\": \\\"Trample\\\\nWhen this creature attacks, another target creature you control gains trample and gets +X/+X until end of turn, where X is this creature's power.\\\", \\\"toughness\\\": \\\"4\\\", \\\"types\\\": [\\\"Creature\\\"]}\", \"{\\\"colors\\\": [\\\"B\\\"], \\\"convertedManaCost\\\": 1, \\\"keywords\\\": null, \\\"manaCost\\\": \\\"{B}\\\", \\\"manaValue\\\": 1, \\\"name\\\": \\\"Vampire Neonate\\\", \\\"power\\\": \\\"0\\\", \\\"rarity\\\": \\\"common\\\", \\\"subtypes\\\": [\\\"Vampire\\\"], \\\"supertypes\\\": [], \\\"text\\\": \\\"{2}, {T}: Each opponent loses 1 life and you gain 1 life.\\\", \\\"toughness\\\": \\\"3\\\", \\\"types\\\": [\\\"Creature\\\"]}\"]\n",
      "==================================\u001b[1m Ai Message \u001b[0m==================================\n",
      "\n",
      "It seems like you provided a large list of card data from a trading card game, likely Magic: The Gathering. To assist you better, could you please provide more context about what specific information or analysis you need regarding this dataset? Here are some possible questions I can help with:\n",
      "\n",
      "1. **Counting cards by type**: You want to count how many creatures, spells, and lands there are in total.\n",
      "2. **Most powerful card**: Which card has the highest power or toughness value?\n",
      "3. **Card rarity distribution**: How does the distribution of common, uncommon, rare, and mythic rare cards look like?\n",
      "\n",
      "Please clarify which one of these questions you're interested in or if it's something else entirely. I'll do my best to assist you based on your request.\n"
     ]
    }
   ],
   "source": [
    "input_message = (\n",
    "    \"How many demons are there? You can retrieve as many cards as you want\"\n",
    ")\n",
    "\n",
    "for event in agent_executor.stream(\n",
    "    {\"messages\": [{\"role\": \"user\", \"content\": input_message}]},\n",
    "    stream_mode=\"values\",\n",
    "    config=config,\n",
    "):\n",
    "    event[\"messages\"][-1].pretty_print()"
   ]
  },
  {
   "cell_type": "code",
   "execution_count": null,
   "metadata": {},
   "outputs": [],
   "source": []
  }
 ],
 "metadata": {
  "kernelspec": {
   "display_name": ".venv",
   "language": "python",
   "name": "python3"
  },
  "language_info": {
   "codemirror_mode": {
    "name": "ipython",
    "version": 3
   },
   "file_extension": ".py",
   "mimetype": "text/x-python",
   "name": "python",
   "nbconvert_exporter": "python",
   "pygments_lexer": "ipython3",
   "version": "3.12.3"
  }
 },
 "nbformat": 4,
 "nbformat_minor": 2
}
