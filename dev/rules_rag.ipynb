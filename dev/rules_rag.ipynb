{
 "cells": [
  {
   "cell_type": "markdown",
   "metadata": {},
   "source": [
    "# RAG for rules"
   ]
  },
  {
   "cell_type": "code",
   "execution_count": 1,
   "metadata": {},
   "outputs": [],
   "source": [
    "from langchain_ollama import ChatOllama\n",
    "\n",
    "llm = ChatOllama(model=\"llama3.1\")"
   ]
  },
  {
   "cell_type": "code",
   "execution_count": 2,
   "metadata": {},
   "outputs": [],
   "source": [
    "from langchain_ollama import OllamaEmbeddings\n",
    "\n",
    "# embeddings = OllamaEmbeddings(model=\"snowflake-arctic-embed2\")\n",
    "embeddings = OllamaEmbeddings(model=\"mxbai-embed-large\")\n"
   ]
  },
  {
   "cell_type": "code",
   "execution_count": 3,
   "metadata": {},
   "outputs": [],
   "source": [
    "from langchain_core.vectorstores import InMemoryVectorStore\n",
    "\n",
    "vector_store = InMemoryVectorStore(embeddings)"
   ]
  },
  {
   "cell_type": "code",
   "execution_count": 4,
   "metadata": {},
   "outputs": [
    {
     "name": "stdout",
     "output_type": "stream",
     "text": [
      "295\n"
     ]
    }
   ],
   "source": [
    "from langchain_community.document_loaders import PyPDFLoader\n",
    "\n",
    "file_path = \"../data/MagicCompRules 20241108.pdf\"\n",
    "loader = PyPDFLoader(file_path)\n",
    "\n",
    "docs = loader.load()\n",
    "\n",
    "print(len(docs))"
   ]
  },
  {
   "cell_type": "code",
   "execution_count": 5,
   "metadata": {},
   "outputs": [
    {
     "name": "stdout",
     "output_type": "stream",
     "text": [
      "Magic: The Gathering Comprehensive Rules \n",
      " \n",
      "These rules are effective as of November 8, 2024. \n",
      " \n",
      "Introduction \n",
      " \n",
      "This document is the ultimate authority for Magic: The Gathering® competitive game play\n",
      "\n",
      "{'source': '../data/MagicCompRules 20241108.pdf', 'page': 0}\n"
     ]
    }
   ],
   "source": [
    "print(f\"{docs[0].page_content[:200]}\\n\")\n",
    "print(docs[0].metadata)"
   ]
  },
  {
   "cell_type": "code",
   "execution_count": 6,
   "metadata": {},
   "outputs": [
    {
     "data": {
      "text/plain": [
       "1236"
      ]
     },
     "execution_count": 6,
     "metadata": {},
     "output_type": "execute_result"
    }
   ],
   "source": [
    "from langchain_text_splitters import RecursiveCharacterTextSplitter\n",
    "\n",
    "text_splitter = RecursiveCharacterTextSplitter(\n",
    "    chunk_size=1000, chunk_overlap=200, add_start_index=True\n",
    ")\n",
    "all_splits = text_splitter.split_documents(docs)\n",
    "\n",
    "len(all_splits)"
   ]
  },
  {
   "cell_type": "code",
   "execution_count": 7,
   "metadata": {},
   "outputs": [
    {
     "name": "stdout",
     "output_type": "stream",
     "text": [
      "Generated vectors of length 1024\n",
      "\n",
      "[0.008813284, -0.024318807, 0.032390587, 0.01052019, 0.02036579, -0.03691951, 0.034285244, -0.023193588, -0.013136297, 0.083584286]\n"
     ]
    }
   ],
   "source": [
    "vector_1 = embeddings.embed_query(all_splits[0].page_content)\n",
    "vector_2 = embeddings.embed_query(all_splits[1].page_content)\n",
    "\n",
    "assert len(vector_1) == len(vector_2)\n",
    "print(f\"Generated vectors of length {len(vector_1)}\\n\")\n",
    "print(vector_1[:10])"
   ]
  },
  {
   "cell_type": "code",
   "execution_count": 8,
   "metadata": {},
   "outputs": [],
   "source": [
    "_ = vector_store.add_documents(documents=all_splits)"
   ]
  },
  {
   "cell_type": "code",
   "execution_count": 9,
   "metadata": {},
   "outputs": [
    {
     "name": "stdout",
     "output_type": "stream",
     "text": [
      "page_content='other than basic land cards. For the purposes of deck construction, cards with interchangeable \n",
      "names have the same English name (see rule 201.3). \n",
      " \n",
      "100.2b In limited play (a way of playing in which each player gets the same quantity of unopened \n",
      "Magic product such as booster packs and creates their own deck using only this product and \n",
      "basic land cards), each deck has a minimum deck size of 40 cards. A limited deck may contain \n",
      "as many duplicates of a card as are included with the product. \n",
      " \n",
      "100.2c Commander decks are subject to additional deckbuilding restrictions and requirements. See \n",
      "rule 903, “Commander,” for details. \n",
      " \n",
      "100.2d Some formats and casual play variants allow players to use a supplementary deck of \n",
      "nontraditional Magic cards (see rule 108.2a). These supplementary decks have their own deck \n",
      "construction rules. See rule 717, “Attraction Cards;” rule 901, “Planechase;” and rule 904, \n",
      "“Archenemy.”' metadata={'source': '../data/MagicCompRules 20241108.pdf', 'page': 4, 'start_index': 810}\n"
     ]
    }
   ],
   "source": [
    "results = vector_store.similarity_search(\n",
    "    \"How many cards must a standard constructed deck contain?\"\n",
    ")\n",
    "\n",
    "print(results[0])"
   ]
  },
  {
   "cell_type": "code",
   "execution_count": 10,
   "metadata": {},
   "outputs": [
    {
     "name": "stdout",
     "output_type": "stream",
     "text": [
      "page_content='Zariel. \n",
      " \n",
      "205.3k Instants and sorceries share their lists of subtypes; these subtypes are called spell types.  The \n",
      "spell types are Adventure, Arcane, Lesson, and Trap. \n",
      " \n",
      "205.3m Creatures and kindreds share their lists of subtypes; these subtypes are called creature \n",
      "types. One creature type is two words long: Time Lord. All other creature types are one word \n",
      "long: Advisor, Aetherborn, Alien, Ally, Angel, Antelope, Ape, Archer, Archon, Armadillo, \n",
      "Army, Artificer, Assassin, Assembly-Worker, Astartes, Atog, Aurochs, Avatar, Azra, Badger, \n",
      "Balloon, Barbarian, Bard, Basilisk, Bat, Bear, Beast, Beaver, Beeble, Beholder, Berserker, Bird, \n",
      "Blinkmoth, Boar, Bringer, Brushwagg, Camarid, Camel, Capybara, Caribou, Carrier, Cat, \n",
      "Centaur, Child, Chimera, Citizen, Cleric, Clown, Cockatrice, Construct, Coward, Coyote, Crab, \n",
      "Crocodile, C’tan, Custodes, Cyberman, Cyclops, Dalek, Dauthi, Demigod, Demon, Deserter,' metadata={'source': '../data/MagicCompRules 20241108.pdf', 'page': 49, 'start_index': 741}\n"
     ]
    }
   ],
   "source": [
    "results = vector_store.similarity_search(\n",
    "    \"How many types of spells are there?\"\n",
    ")\n",
    "\n",
    "print(results[0])"
   ]
  },
  {
   "cell_type": "code",
   "execution_count": 11,
   "metadata": {},
   "outputs": [],
   "source": [
    "from langchain_core.tools import tool\n",
    "\n",
    "\n",
    "@tool(response_format=\"content_and_artifact\")\n",
    "def retrieve(query: str):\n",
    "    \"\"\"Retrieve information related to a query.\"\"\"\n",
    "    retrieved_docs = vector_store.similarity_search(query, k=2)\n",
    "    serialized = \"\\n\\n\".join(\n",
    "        (f\"Source: {doc.metadata}\\n\" f\"Content: {doc.page_content}\")\n",
    "        for doc in retrieved_docs\n",
    "    )\n",
    "    return serialized, retrieved_docs"
   ]
  },
  {
   "cell_type": "code",
   "execution_count": 12,
   "metadata": {},
   "outputs": [],
   "source": [
    "from langgraph.graph import MessagesState, StateGraph\n",
    "\n",
    "graph_builder = StateGraph(MessagesState)"
   ]
  },
  {
   "cell_type": "code",
   "execution_count": 13,
   "metadata": {},
   "outputs": [],
   "source": [
    "from langgraph.checkpoint.memory import MemorySaver\n",
    "\n",
    "memory = MemorySaver()"
   ]
  },
  {
   "cell_type": "code",
   "execution_count": 14,
   "metadata": {},
   "outputs": [],
   "source": [
    "from langgraph.prebuilt import create_react_agent\n",
    "\n",
    "agent_executor = create_react_agent(llm, [retrieve], checkpointer=memory)"
   ]
  },
  {
   "cell_type": "code",
   "execution_count": 15,
   "metadata": {},
   "outputs": [
    {
     "data": {
      "image/png": "[encoded data removed]",
      "text/plain": [
       "<IPython.core.display.Image object>"
      ]
     },
     "metadata": {},
     "output_type": "display_data"
    }
   ],
   "source": [
    "from IPython.display import Image, display\n",
    "\n",
    "display(Image(agent_executor.get_graph().draw_mermaid_png()))"
   ]
  },
  {
   "cell_type": "code",
   "execution_count": 16,
   "metadata": {},
   "outputs": [
    {
     "data": {
      "text/plain": [
       "AIMessage(content=\"A Standard Constructed deck in Magic: The Gathering must contain exactly 60 cards. This is specified by the official rules of Wizards of the Coast, the game's publisher.\\n\\nIt's worth noting that while this is the minimum number of cards required, most players build their decks with more than 60 cards to include a sideboard (up to 15 additional cards). However, the actual deck played during competition must still contain only 60 cards.\", additional_kwargs={}, response_metadata={'model': 'llama3.1', 'created_at': '2024-12-31T06:07:04.908619393Z', 'done': True, 'done_reason': 'stop', 'total_duration': 876369642, 'load_duration': 16581740, 'prompt_eval_count': 25, 'prompt_eval_duration': 5000000, 'eval_count': 91, 'eval_duration': 853000000, 'message': Message(role='assistant', content='', images=None, tool_calls=None)}, id='run-99acc2fe-3a80-4345-bb3e-c609bf78c458-0', usage_metadata={'input_tokens': 25, 'output_tokens': 91, 'total_tokens': 116})"
      ]
     },
     "execution_count": 16,
     "metadata": {},
     "output_type": "execute_result"
    }
   ],
   "source": [
    "llm.invoke(\"In Magic The Gathering, how many cards must a standard constructed deck contain?\")"
   ]
  },
  {
   "cell_type": "code",
   "execution_count": 18,
   "metadata": {},
   "outputs": [
    {
     "data": {
      "text/plain": [
       "AIMessage(content='According to my knowledge cutoff (which might be outdated), the latest sets in Magic: The Gathering are:\\n\\n**Standard Sets:**\\n\\n1. **Kaldheim** (February 2021)\\n2. **Strixhaven: School of Mages** (April 2021)\\n3. **Core Set 2024** (July 2022) - Note that this set is not a traditional \"set\" in the sense that it\\'s a rotating standard format, but rather a collection of cards from various sets.\\n\\n**Modern Sets:**\\n\\n1. **Kaldheim** (February 2021)\\n2. **Strixhaven: School of Mages** (April 2021)\\n\\n**Commander and Other Formats:**\\n\\n1. **Kaldheim Commander** (February 2021) - A special set designed for the Commander format.\\n2. **Secret Lair** sets (various release dates, but often around the same time as a standard or modern set)\\n3. **Zendikar Rising Commander** (September 2020)\\n\\nPlease note that new sets are released regularly by Wizards of the Coast, so this information might be outdated. I recommend checking official sources like [Magic: The Gathering\\'s website](https://magic.wizards.com/en) or the [MTG Arena store](https://magic.wizards.com/en/store/mtg-arena-store) for the most up-to-date information.\\n\\nIf you\\'d like, I can try to provide more context or details about these sets!', additional_kwargs={}, response_metadata={'model': 'llama3.1', 'created_at': '2024-12-31T06:07:57.418948344Z', 'done': True, 'done_reason': 'stop', 'total_duration': 2938441068, 'load_duration': 16657244, 'prompt_eval_count': 26, 'prompt_eval_duration': 17000000, 'eval_count': 307, 'eval_duration': 2903000000, 'message': Message(role='assistant', content='', images=None, tool_calls=None)}, id='run-86d0e515-0cf7-488d-9417-a9eb480db8db-0', usage_metadata={'input_tokens': 26, 'output_tokens': 307, 'total_tokens': 333})"
      ]
     },
     "execution_count": 18,
     "metadata": {},
     "output_type": "execute_result"
    }
   ],
   "source": [
    "llm.invoke(\"What is the latest set in Magic The Gathering, that you are aware of?\")"
   ]
  },
  {
   "cell_type": "code",
   "execution_count": 17,
   "metadata": {},
   "outputs": [
    {
     "name": "stdout",
     "output_type": "stream",
     "text": [
      "================================\u001b[1m Human Message \u001b[0m=================================\n",
      "\n",
      "In Magic The Gathering, how many cards must a standard constructed deck contain?\n",
      "==================================\u001b[1m Ai Message \u001b[0m==================================\n",
      "Tool Calls:\n",
      "  retrieve (7f370ff6-408d-4f35-b4d8-7f2a32984b65)\n",
      " Call ID: 7f370ff6-408d-4f35-b4d8-7f2a32984b65\n",
      "  Args:\n",
      "    query: Magic The Gathering, Standard Constructed Deck Card Count\n",
      "=================================\u001b[1m Tool Message \u001b[0m=================================\n",
      "Name: retrieve\n",
      "\n",
      "Source: {'source': '../data/MagicCompRules 20241108.pdf', 'page': 4, 'start_index': 810}\n",
      "Content: other than basic land cards. For the purposes of deck construction, cards with interchangeable \n",
      "names have the same English name (see rule 201.3). \n",
      " \n",
      "100.2b In limited play (a way of playing in which each player gets the same quantity of unopened \n",
      "Magic product such as booster packs and creates their own deck using only this product and \n",
      "basic land cards), each deck has a minimum deck size of 40 cards. A limited deck may contain \n",
      "as many duplicates of a card as are included with the product. \n",
      " \n",
      "100.2c Commander decks are subject to additional deckbuilding restrictions and requirements. See \n",
      "rule 903, “Commander,” for details. \n",
      " \n",
      "100.2d Some formats and casual play variants allow players to use a supplementary deck of \n",
      "nontraditional Magic cards (see rule 108.2a). These supplementary decks have their own deck \n",
      "construction rules. See rule 717, “Attraction Cards;” rule 901, “Planechase;” and rule 904, \n",
      "“Archenemy.”\n",
      "\n",
      "Source: {'source': '../data/MagicCompRules 20241108.pdf', 'page': 4, 'start_index': 1631}\n",
      "Content: construction rules. See rule 717, “Attraction Cards;” rule 901, “Planechase;” and rule 904, \n",
      "“Archenemy.” \n",
      " \n",
      "100.3. Some cards require coins or traditional dice. Some casual variants require additional items, such \n",
      "as specially designated cards, nontraditional Magic cards, and specialized dice. \n",
      " \n",
      "100.4. Each player may also have a sideboard, which is a group of additional cards the player may use \n",
      "to modify their deck between games of a match. \n",
      " \n",
      "100.4a In constructed play, a sideboard may contain no more than fifteen cards. The four-card limit \n",
      "(see rule 100.2a) applies to the combined deck and sideboard. \n",
      " \n",
      "100.4b In limited play involving individual players, all cards in a player ’s card pool not included in \n",
      "their deck are in that player’s sideboard. \n",
      " \n",
      "100.4c In limited play involving the Two-Headed Giant multiplayer variant, all cards in a team’s \n",
      "card pool but not in either player’s deck are in that team’s sideboard.\n",
      "==================================\u001b[1m Ai Message \u001b[0m==================================\n",
      "\n",
      "According to the Magic The Gathering rules, a standard constructed deck must contain 60 cards, not including basic land cards.\n"
     ]
    }
   ],
   "source": [
    "config = {\"configurable\": {\"thread_id\": \"def234\"}}\n",
    "\n",
    "input_message = (\n",
    "    \"In Magic The Gathering, how many cards must a standard constructed deck contain?\"\n",
    ")\n",
    "\n",
    "for event in agent_executor.stream(\n",
    "    {\"messages\": [{\"role\": \"user\", \"content\": input_message}]},\n",
    "    stream_mode=\"values\",\n",
    "    config=config,\n",
    "):\n",
    "    event[\"messages\"][-1].pretty_print()"
   ]
  },
  {
   "cell_type": "code",
   "execution_count": 27,
   "metadata": {},
   "outputs": [],
   "source": [
    "from pathlib import Path\n",
    "\n",
    "from langchain_community.document_loaders import PyPDFLoader\n",
    "from langchain_core.tools import tool\n",
    "from langchain_core.vectorstores import InMemoryVectorStore\n",
    "from langchain_ollama import OllamaEmbeddings\n",
    "from langchain_text_splitters import RecursiveCharacterTextSplitter\n",
    "from langchain_core.tools import BaseTool\n",
    "from typing import Optional, Type\n",
    "\n",
    "from langchain_core.callbacks import (\n",
    "    AsyncCallbackManagerForToolRun,\n",
    "    CallbackManagerForToolRun,\n",
    ")\n",
    "from langchain_core.tools import BaseTool\n",
    "from pydantic import BaseModel, Field\n",
    "\n",
    "\n"
   ]
  },
  {
   "cell_type": "code",
   "execution_count": 44,
   "metadata": {},
   "outputs": [],
   "source": [
    "class StrQuery(BaseModel):\n",
    "    query: str = Field(description=\"Retrieval query\")\n",
    "\n",
    "class RulesRetriever(BaseTool):\n",
    "    rules_path: str\n",
    "    embeddings:OllamaEmbeddings\n",
    "    vector_store: None|InMemoryVectorStore = None\n",
    "\n",
    "    name: str = \"RulesRetriever\"\n",
    "    description: str = \"Provides relevant information for the latest Magic: The Gathering rules, as of November 2024.\"\n",
    "    args_schema: Type[BaseModel] = StrQuery\n",
    "\n",
    "    def __init__(self, rules_path: Path | str, embed_model: str = \"snowflake-arctic-embed2\"):\n",
    "        super().__init__(rules_path=str(rules_path), \n",
    "                         embeddings=OllamaEmbeddings(model=embed_model))\n",
    "        self.create_storage()\n",
    "\n",
    "    def create_storage(self) -> None:\n",
    "        self.vector_store =InMemoryVectorStore(self.embeddings)\n",
    "        loader = PyPDFLoader(self.rules_path)\n",
    "        docs = loader.load()\n",
    "        text_splitter = RecursiveCharacterTextSplitter(chunk_size=1000, chunk_overlap=200, add_start_index=True)\n",
    "        all_splits = text_splitter.split_documents(docs)\n",
    "        print(f\"Loaded {len(all_splits)} document splits.\")\n",
    "        self.vector_store.add_documents(documents=all_splits)\n",
    "\n",
    "    def _run(self, query: str, run_manager: Optional[CallbackManagerForToolRun] = None) -> tuple[str, list]:\n",
    "        \"\"\"Retrieve information related to a query.\"\"\"\n",
    "        retrieved_docs = self.vector_store.similarity_search(query, k=2)\n",
    "        serialized = \"\\n\\n\".join((f\"Source: {doc.metadata}\\n\" f\"Content: {doc.page_content}\") for doc in retrieved_docs)\n",
    "        return serialized, retrieved_docs"
   ]
  },
  {
   "cell_type": "code",
   "execution_count": 45,
   "metadata": {},
   "outputs": [
    {
     "name": "stdout",
     "output_type": "stream",
     "text": [
      "Loaded 1236 document splits.\n"
     ]
    }
   ],
   "source": [
    "retriever = RulesRetriever(rules_path=\"../data/MagicCompRules 20241108.pdf\")"
   ]
  },
  {
   "cell_type": "code",
   "execution_count": 46,
   "metadata": {},
   "outputs": [
    {
     "data": {
      "text/plain": [
       "\"Source: {'source': '../data/MagicCompRules 20241108.pdf', 'page': 4, 'start_index': 810}\\nContent: other than basic land cards. For the purposes of deck construction, cards with interchangeable \\nnames have the same English name (see rule 201.3). \\n \\n100.2b In limited play (a way of playing in which each player gets the same quantity of unopened \\nMagic product such as booster packs and creates their own deck using only this product and \\nbasic land cards), each deck has a minimum deck size of 40 cards. A limited deck may contain \\nas many duplicates of a card as are included with the product. \\n \\n100.2c Commander decks are subject to additional deckbuilding restrictions and requirements. See \\nrule 903, “Commander,” for details. \\n \\n100.2d Some formats and casual play variants allow players to use a supplementary deck of \\nnontraditional Magic cards (see rule 108.2a). These supplementary decks have their own deck \\nconstruction rules. See rule 717, “Attraction Cards;” rule 901, “Planechase;” and rule 904, \\n“Archenemy.”\\n\\nSource: {'source': '../data/MagicCompRules 20241108.pdf', 'page': 4, 'start_index': 1631}\\nContent: construction rules. See rule 717, “Attraction Cards;” rule 901, “Planechase;” and rule 904, \\n“Archenemy.” \\n \\n100.3. Some cards require coins or traditional dice. Some casual variants require additional items, such \\nas specially designated cards, nontraditional Magic cards, and specialized dice. \\n \\n100.4. Each player may also have a sideboard, which is a group of additional cards the player may use \\nto modify their deck between games of a match. \\n \\n100.4a In constructed play, a sideboard may contain no more than fifteen cards. The four-card limit \\n(see rule 100.2a) applies to the combined deck and sideboard. \\n \\n100.4b In limited play involving individual players, all cards in a player ’s card pool not included in \\ntheir deck are in that player’s sideboard. \\n \\n100.4c In limited play involving the Two-Headed Giant multiplayer variant, all cards in a team’s \\ncard pool but not in either player’s deck are in that team’s sideboard.\""
      ]
     },
     "execution_count": 46,
     "metadata": {},
     "output_type": "execute_result"
    }
   ],
   "source": [
    "retrieve.invoke(\"In Magic The Gathering, how many cards must a standard constructed deck contain?\")"
   ]
  },
  {
   "cell_type": "code",
   "execution_count": 48,
   "metadata": {},
   "outputs": [],
   "source": [
    "memory = MemorySaver()\n",
    "agent_executor = create_react_agent(llm, [retriever], checkpointer=memory)\n",
    "config = {\"configurable\": {\"thread_id\": \"test_rules_retriever\"}}\n"
   ]
  },
  {
   "cell_type": "code",
   "execution_count": 52,
   "metadata": {},
   "outputs": [
    {
     "name": "stdout",
     "output_type": "stream",
     "text": [
      "================================\u001b[1m Human Message \u001b[0m=================================\n",
      "\n",
      "In Magic The Gathering, how many cards must a standard constructed deck contain?\n",
      "==================================\u001b[1m Ai Message \u001b[0m==================================\n",
      "Tool Calls:\n",
      "  RulesRetriever (b24f0488-1875-4432-8510-28c69767489d)\n",
      " Call ID: b24f0488-1875-4432-8510-28c69767489d\n",
      "  Args:\n",
      "    query: Magic The Gathering standard constructed deck size\n",
      "=================================\u001b[1m Tool Message \u001b[0m=================================\n",
      "Name: RulesRetriever\n",
      "\n",
      "(\"Source: {'source': '../data/MagicCompRules 20241108.pdf', 'page': 4, 'start_index': 810}\\nContent: other than basic land cards. For the purposes of deck construction, cards with interchangeable \\nnames have the same English name (see rule 201.3). \\n \\n100.2b In limited play (a way of playing in which each player gets the same quantity of unopened \\nMagic product such as booster packs and creates their own deck using only this product and \\nbasic land cards), each deck has a minimum deck size of 40 cards. A limited deck may contain \\nas many duplicates of a card as are included with the product. \\n \\n100.2c Commander decks are subject to additional deckbuilding restrictions and requirements. See \\nrule 903, “Commander,” for details. \\n \\n100.2d Some formats and casual play variants allow players to use a supplementary deck of \\nnontraditional Magic cards (see rule 108.2a). These supplementary decks have their own deck \\nconstruction rules. See rule 717, “Attraction Cards;” rule 901, “Planechase;” and rule 904, \\n“Archenemy.”\\n\\nSource: {'source': '../data/MagicCompRules 20241108.pdf', 'page': 4, 'start_index': 0}\\nContent: 1. Game Concepts \\n \\n100. General \\n \\n100.1. These Magic rules apply to any Magic game with two or more players, including two-player \\ngames and multiplayer games. \\n \\n100.1a A two-player game is a game that begins with only two players. \\n \\n100.1b A multiplayer game is a game that begins with more than two players. See section 8, \\n“Multiplayer Rules.” \\n \\n100.2. To play, each player needs their own deck of traditional Magic cards, small items to represent \\nany tokens and counters, and some way to clearly track life totals. \\n \\n100.2a In constructed play (a way of playing in which each player creates their own deck ahead of \\ntime), each deck has a minimum deck size of 60 cards. A constructed deck may contain any \\nnumber of basic land cards and no more than four of any card with a particular English name \\nother than basic land cards. For the purposes of deck construction, cards with interchangeable \\nnames have the same English name (see rule 201.3).\", [Document(id='5b7bb8b4-73c5-48b8-8261-7c3a29a627ea', metadata={'source': '../data/MagicCompRules 20241108.pdf', 'page': 4, 'start_index': 810}, page_content='other than basic land cards. For the purposes of deck construction, cards with interchangeable \\nnames have the same English name (see rule 201.3). \\n \\n100.2b In limited play (a way of playing in which each player gets the same quantity of unopened \\nMagic product such as booster packs and creates their own deck using only this product and \\nbasic land cards), each deck has a minimum deck size of 40 cards. A limited deck may contain \\nas many duplicates of a card as are included with the product. \\n \\n100.2c Commander decks are subject to additional deckbuilding restrictions and requirements. See \\nrule 903, “Commander,” for details. \\n \\n100.2d Some formats and casual play variants allow players to use a supplementary deck of \\nnontraditional Magic cards (see rule 108.2a). These supplementary decks have their own deck \\nconstruction rules. See rule 717, “Attraction Cards;” rule 901, “Planechase;” and rule 904, \\n“Archenemy.”'), Document(id='cb59023f-e5e7-4071-8a8c-2beee3aa1bef', metadata={'source': '../data/MagicCompRules 20241108.pdf', 'page': 4, 'start_index': 0}, page_content='1. Game Concepts \\n \\n100. General \\n \\n100.1. These Magic rules apply to any Magic game with two or more players, including two-player \\ngames and multiplayer games. \\n \\n100.1a A two-player game is a game that begins with only two players. \\n \\n100.1b A multiplayer game is a game that begins with more than two players. See section 8, \\n“Multiplayer Rules.” \\n \\n100.2. To play, each player needs their own deck of traditional Magic cards, small items to represent \\nany tokens and counters, and some way to clearly track life totals. \\n \\n100.2a In constructed play (a way of playing in which each player creates their own deck ahead of \\ntime), each deck has a minimum deck size of 60 cards. A constructed deck may contain any \\nnumber of basic land cards and no more than four of any card with a particular English name \\nother than basic land cards. For the purposes of deck construction, cards with interchangeable \\nnames have the same English name (see rule 201.3).')])\n",
      "==================================\u001b[1m Ai Message \u001b[0m==================================\n",
      "\n",
      "In constructed play for Magic The Gathering, a standard constructed deck must contain at least 60 cards.\n"
     ]
    }
   ],
   "source": [
    "input_message = (\n",
    "    \"In Magic The Gathering, how many cards must a standard constructed deck contain?\"\n",
    ")\n",
    "\n",
    "for event in agent_executor.stream(\n",
    "    {\"messages\": [{\"role\": \"user\", \"content\": input_message}]},\n",
    "    stream_mode=\"values\",\n",
    "    config=config,\n",
    "):\n",
    "    event[\"messages\"][-1].pretty_print()"
   ]
  },
  {
   "cell_type": "code",
   "execution_count": null,
   "metadata": {},
   "outputs": [],
   "source": []
  }
 ],
 "metadata": {
  "kernelspec": {
   "display_name": ".venv",
   "language": "python",
   "name": "python3"
  },
  "language_info": {
   "codemirror_mode": {
    "name": "ipython",
    "version": 3
   },
   "file_extension": ".py",
   "mimetype": "text/x-python",
   "name": "python",
   "nbconvert_exporter": "python",
   "pygments_lexer": "ipython3",
   "version": "3.12.3"
  }
 },
 "nbformat": 4,
 "nbformat_minor": 2
}
